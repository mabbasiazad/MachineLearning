{
 "cells": [
  {
   "cell_type": "markdown",
   "metadata": {
    "colab_type": "text",
    "id": "o3UFgeUebGKo"
   },
   "source": [
    "Download the data"
   ]
  },
  {
   "cell_type": "code",
   "execution_count": 1,
   "metadata": {
    "colab": {
     "base_uri": "https://localhost:8080/",
     "height": 641
    },
    "colab_type": "code",
    "executionInfo": {
     "elapsed": 16375,
     "status": "ok",
     "timestamp": 1564364689954,
     "user": {
      "displayName": "Mehdi Abbasi",
      "photoUrl": "",
      "userId": "12903423591258086548"
     },
     "user_tz": 240
    },
    "id": "P6BH8Bgpa_ZS",
    "outputId": "fc73f8a9-f715-41c0-f7b5-5670255d82d5"
   },
   "outputs": [
    {
     "name": "stdout",
     "output_type": "stream",
     "text": [
      "--2019-07-29 01:44:36--  https://download.pytorch.org/tutorial/data.zip\n",
      "Resolving download.pytorch.org (download.pytorch.org)... 99.86.88.122, 99.86.88.47, 99.86.88.50, ...\n",
      "Connecting to download.pytorch.org (download.pytorch.org)|99.86.88.122|:443... connected.\n",
      "HTTP request sent, awaiting response... 200 OK\n",
      "Length: 2882130 (2.7M) [application/zip]\n",
      "Saving to: ‘data.zip.7’\n",
      "\n",
      "\r",
      "data.zip.7            0%[                    ]       0  --.-KB/s               \r",
      "data.zip.7          100%[===================>]   2.75M  --.-KB/s    in 0.1s    \n",
      "\n",
      "2019-07-29 01:44:36 (28.0 MB/s) - ‘data.zip.7’ saved [2882130/2882130]\n",
      "\n",
      "Archive:  data.zip\n",
      "replace data/eng-fra.txt? [y]es, [n]o, [A]ll, [N]one, [r]ename: \n",
      "error:  invalid response [{ENTER}]\n",
      "replace data/eng-fra.txt? [y]es, [n]o, [A]ll, [N]one, [r]ename: A\n",
      "  inflating: data/eng-fra.txt        \n",
      "  inflating: data/names/Arabic.txt   \n",
      "  inflating: data/names/Chinese.txt  \n",
      "  inflating: data/names/Czech.txt    \n",
      "  inflating: data/names/Dutch.txt    \n",
      "  inflating: data/names/English.txt  \n",
      "  inflating: data/names/French.txt   \n",
      "  inflating: data/names/German.txt   \n",
      "  inflating: data/names/Greek.txt    \n",
      "  inflating: data/names/Irish.txt    \n",
      "  inflating: data/names/Italian.txt  \n",
      "  inflating: data/names/Japanese.txt  \n",
      "  inflating: data/names/Korean.txt   \n",
      "  inflating: data/names/Polish.txt   \n",
      "  inflating: data/names/Portuguese.txt  \n",
      "  inflating: data/names/Russian.txt  \n",
      "  inflating: data/names/Scottish.txt  \n",
      "  inflating: data/names/Spanish.txt  \n",
      "  inflating: data/names/Vietnamese.txt  \n",
      "data\t  data.zip.1  data.zip.3  data.zip.5  data.zip.7\n",
      "data.zip  data.zip.2  data.zip.4  data.zip.6  sample_data\n"
     ]
    }
   ],
   "source": [
    "!wget https://download.pytorch.org/tutorial/data.zip\n",
    "!unzip data.zip\n",
    "!ls"
   ]
  },
  {
   "cell_type": "code",
   "execution_count": 0,
   "metadata": {
    "colab": {},
    "colab_type": "code",
    "id": "IGZLdMtDUfxu"
   },
   "outputs": [],
   "source": [
    "%matplotlib inline"
   ]
  },
  {
   "cell_type": "markdown",
   "metadata": {
    "colab_type": "text",
    "id": "KNkkHixNUfxz"
   },
   "source": [
    "\n",
    "Classifying Names with a Character-Level RNN\n",
    "*********************************************\n",
    "**Author**: `Sean Robertson <https://github.com/spro/practical-pytorch>`_\n",
    "\n",
    "We will be building and training a basic character-level RNN to classify\n",
    "words. A character-level RNN reads words as a series of characters -\n",
    "outputting a prediction and \"hidden state\" at each step, feeding its\n",
    "previous hidden state into each next step. We take the final prediction\n",
    "to be the output, i.e. which class the word belongs to.\n",
    "\n",
    "Specifically, we'll train on a few thousand surnames from 18 languages\n",
    "of origin, and predict which language a name is from based on the\n",
    "spelling:\n",
    "\n",
    "::\n",
    "\n",
    "    $ python predict.py Hinton\n",
    "    (-0.47) Scottish\n",
    "    (-1.52) English\n",
    "    (-3.57) Irish\n",
    "\n",
    "    $ python predict.py Schmidhuber\n",
    "    (-0.19) German\n",
    "    (-2.48) Czech\n",
    "    (-2.68) Dutch\n",
    "\n",
    "\n",
    "**Recommended Reading:**\n",
    "\n",
    "I assume you have at least installed PyTorch, know Python, and\n",
    "understand Tensors:\n",
    "\n",
    "-  http://pytorch.org/ For installation instructions\n",
    "-  :doc:`/beginner/deep_learning_60min_blitz` to get started with PyTorch in general\n",
    "-  :doc:`/beginner/pytorch_with_examples` for a wide and deep overview\n",
    "-  :doc:`/beginner/former_torchies_tutorial` if you are former Lua Torch user\n",
    "\n",
    "It would also be useful to know about RNNs and how they work:\n",
    "\n",
    "-  `The Unreasonable Effectiveness of Recurrent Neural\n",
    "   Networks <http://karpathy.github.io/2015/05/21/rnn-effectiveness/>`__\n",
    "   shows a bunch of real life examples\n",
    "-  `Understanding LSTM\n",
    "   Networks <http://colah.github.io/posts/2015-08-Understanding-LSTMs/>`__\n",
    "   is about LSTMs specifically but also informative about RNNs in\n",
    "   general\n",
    "\n",
    "Preparing the Data\n",
    "==================\n",
    "\n",
    ".. Note::\n",
    "   Download the data from\n",
    "   `here <https://download.pytorch.org/tutorial/data.zip>`_\n",
    "   and extract it to the current directory.\n",
    "\n",
    "Included in the ``data/names`` directory are 18 text files named as\n",
    "\"[Language].txt\". Each file contains a bunch of names, one name per\n",
    "line, mostly romanized (but we still need to convert from Unicode to\n",
    "ASCII).\n",
    "\n",
    "We'll end up with a dictionary of lists of names per language,\n",
    "``{language: [names ...]}``. The generic variables \"category\" and \"line\"\n",
    "(for language and name in our case) are used for later extensibility.\n",
    "\n"
   ]
  },
  {
   "cell_type": "code",
   "execution_count": 3,
   "metadata": {
    "colab": {
     "base_uri": "https://localhost:8080/",
     "height": 72
    },
    "colab_type": "code",
    "executionInfo": {
     "elapsed": 883,
     "status": "ok",
     "timestamp": 1564364697942,
     "user": {
      "displayName": "Mehdi Abbasi",
      "photoUrl": "",
      "userId": "12903423591258086548"
     },
     "user_tz": 240
    },
    "id": "MfLSXwTHUfxz",
    "outputId": "6424f3b6-09d5-42ad-a423-1411b2d13ce2"
   },
   "outputs": [
    {
     "name": "stdout",
     "output_type": "stream",
     "text": [
      "['data/names/Spanish.txt', 'data/names/Japanese.txt', 'data/names/Chinese.txt', 'data/names/Czech.txt', 'data/names/Portuguese.txt', 'data/names/Scottish.txt', 'data/names/English.txt', 'data/names/Italian.txt', 'data/names/Irish.txt', 'data/names/Korean.txt', 'data/names/German.txt', 'data/names/Greek.txt', 'data/names/French.txt', 'data/names/Arabic.txt', 'data/names/Russian.txt', 'data/names/Polish.txt', 'data/names/Vietnamese.txt', 'data/names/Dutch.txt']\n",
      "Slusarski\n"
     ]
    }
   ],
   "source": [
    "from __future__ import unicode_literals, print_function, division\n",
    "from io import open\n",
    "import glob\n",
    "import os\n",
    "import random\n",
    "\n",
    "def findFiles(path): return glob.glob(path)\n",
    "\n",
    "print(findFiles('data/names/*.txt'))\n",
    "\n",
    "import unicodedata\n",
    "import string\n",
    "import math\n",
    "\n",
    "all_letters = string.ascii_letters + \" .,;'\"\n",
    "n_letters = len(all_letters)\n",
    "\n",
    "# Turn a Unicode string to plain ASCII, thanks to http://stackoverflow.com/a/518232/2809427\n",
    "def unicodeToAscii(s):\n",
    "    return ''.join(\n",
    "        c for c in unicodedata.normalize('NFD', s)\n",
    "        if unicodedata.category(c) != 'Mn'\n",
    "        and c in all_letters\n",
    "    )\n",
    "\n",
    "print(unicodeToAscii('Ślusàrski'))\n",
    "\n",
    "# Build the category_lines dictionary, a list of names per language\n",
    "category_lines = {}\n",
    "train_data = {}\n",
    "test_data = {}\n",
    "all_categories = []\n",
    "\n",
    "# Read a file and split into lines\n",
    "def readLines(filename):\n",
    "    lines = open(filename, encoding='utf-8').read().strip().split('\\n')\n",
    "    return [unicodeToAscii(line) for line in lines]\n",
    "\n",
    "for filename in findFiles('data/names/*.txt'):\n",
    "    category = os.path.splitext(os.path.basename(filename))[0]\n",
    "    all_categories.append(category)\n",
    "    lines = readLines(filename)\n",
    "    random.shuffle(lines)\n",
    "    train_data[category] = lines[0:int(math.floor(0.8*len(lines)))]\n",
    "    test_data[category] = lines[int(math.floor(0.8*len(lines)))+1:]\n",
    "    category_lines[category] = lines\n",
    "\n",
    "n_categories = len(all_categories)"
   ]
  },
  {
   "cell_type": "markdown",
   "metadata": {
    "colab_type": "text",
    "id": "lPlBRkDuUfx2"
   },
   "source": [
    "Now we have ``category_lines``, a dictionary mapping each category\n",
    "(language) to a list of lines (names). We also kept track of\n",
    "``all_categories`` (just a list of languages) and ``n_categories`` for\n",
    "later reference.\n",
    "\n",
    "\n"
   ]
  },
  {
   "cell_type": "code",
   "execution_count": 0,
   "metadata": {
    "colab": {
     "base_uri": "https://localhost:8080/",
     "height": 35
    },
    "colab_type": "code",
    "executionInfo": {
     "elapsed": 17378,
     "status": "ok",
     "timestamp": 1564359415972,
     "user": {
      "displayName": "Mehdi Abbasi",
      "photoUrl": "",
      "userId": "12903423591258086548"
     },
     "user_tz": 240
    },
    "id": "VKlnBNIjUfx2",
    "outputId": "449e7037-2632-4cb5-8209-f0d954ae324a"
   },
   "outputs": [
    {
     "name": "stdout",
     "output_type": "stream",
     "text": [
      "['Capello', 'Aita', 'Abate', 'De vitis', 'Capello']\n"
     ]
    }
   ],
   "source": [
    "print(category_lines['Italian'][:5])"
   ]
  },
  {
   "cell_type": "markdown",
   "metadata": {
    "colab_type": "text",
    "id": "I5SGUIMRUfx4"
   },
   "source": [
    "Turning Names into Tensors\n",
    "--------------------------\n",
    "\n",
    "Now that we have all the names organized, we need to turn them into\n",
    "Tensors to make any use of them.\n",
    "\n",
    "To represent a single letter, we use a \"one-hot vector\" of size\n",
    "``<1 x n_letters>``. A one-hot vector is filled with 0s except for a 1\n",
    "at index of the current letter, e.g. ``\"b\" = <0 1 0 0 0 ...>``.\n",
    "\n",
    "To make a word we join a bunch of those into a 2D matrix\n",
    "``<line_length x 1 x n_letters>``.\n",
    "\n",
    "That extra 1 dimension is because PyTorch assumes everything is in\n",
    "batches - we're just using a batch size of 1 here.\n",
    "\n",
    "\n"
   ]
  },
  {
   "cell_type": "code",
   "execution_count": 4,
   "metadata": {
    "colab": {
     "base_uri": "https://localhost:8080/",
     "height": 104
    },
    "colab_type": "code",
    "executionInfo": {
     "elapsed": 1085,
     "status": "ok",
     "timestamp": 1564364702472,
     "user": {
      "displayName": "Mehdi Abbasi",
      "photoUrl": "",
      "userId": "12903423591258086548"
     },
     "user_tz": 240
    },
    "id": "SPFamDJVUfx5",
    "outputId": "e6e1c37e-bde5-432a-c13c-f37f7b117c15"
   },
   "outputs": [
    {
     "name": "stdout",
     "output_type": "stream",
     "text": [
      "tensor([[0., 0., 0., 0., 0., 0., 0., 0., 0., 0., 0., 0., 0., 0., 0., 0., 0., 0.,\n",
      "         0., 0., 0., 0., 0., 0., 0., 0., 0., 0., 0., 0., 0., 0., 0., 0., 0., 1.,\n",
      "         0., 0., 0., 0., 0., 0., 0., 0., 0., 0., 0., 0., 0., 0., 0., 0., 0., 0.,\n",
      "         0., 0., 0.]])\n",
      "torch.Size([5, 1, 57])\n"
     ]
    }
   ],
   "source": [
    "import torch\n",
    "\n",
    "# Find letter index from all_letters, e.g. \"a\" = 0\n",
    "def letterToIndex(letter):\n",
    "    return all_letters.find(letter)\n",
    "\n",
    "# Just for demonstration, turn a letter into a <1 x n_letters> Tensor\n",
    "def letterToTensor(letter):\n",
    "    tensor = torch.zeros(1, n_letters)\n",
    "    tensor[0][letterToIndex(letter)] = 1\n",
    "    return tensor\n",
    "\n",
    "# Turn a line into a <line_length x 1 x n_letters>,\n",
    "# or an array of one-hot letter vectors\n",
    "def lineToTensor(line):\n",
    "    tensor = torch.zeros(len(line), 1, n_letters)\n",
    "    for li, letter in enumerate(line):\n",
    "        tensor[li][0][letterToIndex(letter)] = 1\n",
    "    return tensor\n",
    "\n",
    "print(letterToTensor('J'))\n",
    "\n",
    "print(lineToTensor('Jones').size())"
   ]
  },
  {
   "cell_type": "markdown",
   "metadata": {
    "colab_type": "text",
    "id": "FBQkCWy_Ufx7"
   },
   "source": [
    "Creating the Network\n",
    "====================\n",
    "\n",
    "Before autograd, creating a recurrent neural network in Torch involved\n",
    "cloning the parameters of a layer over several timesteps. The layers\n",
    "held hidden state and gradients which are now entirely handled by the\n",
    "graph itself. This means you can implement a RNN in a very \"pure\" way,\n",
    "as regular feed-forward layers.\n",
    "\n",
    "This RNN module (mostly copied from `the PyTorch for Torch users\n",
    "tutorial <http://pytorch.org/tutorials/beginner/former_torchies/\n",
    "nn_tutorial.html#example-2-recurrent-net>`__)\n",
    "is just 2 linear layers which operate on an input and hidden state, with\n",
    "a LogSoftmax layer after the output.\n",
    "\n",
    ".. figure:: https://i.imgur.com/Z2xbySO.png\n",
    "   :alt:\n",
    "\n",
    "\n",
    "\n"
   ]
  },
  {
   "cell_type": "code",
   "execution_count": 5,
   "metadata": {
    "colab": {
     "base_uri": "https://localhost:8080/",
     "height": 104
    },
    "colab_type": "code",
    "executionInfo": {
     "elapsed": 873,
     "status": "ok",
     "timestamp": 1564364706338,
     "user": {
      "displayName": "Mehdi Abbasi",
      "photoUrl": "",
      "userId": "12903423591258086548"
     },
     "user_tz": 240
    },
    "id": "nAJSP2rTUfx8",
    "outputId": "3ef9bf21-91c6-45ca-eb5e-62760a93e62d"
   },
   "outputs": [
    {
     "name": "stdout",
     "output_type": "stream",
     "text": [
      "RNN(\n",
      "  (i2h): Linear(in_features=185, out_features=128, bias=True)\n",
      "  (i2o): Linear(in_features=185, out_features=18, bias=True)\n",
      "  (softmax): LogSoftmax()\n",
      ")\n"
     ]
    }
   ],
   "source": [
    "import torch.nn as nn\n",
    "from torch.autograd import Variable\n",
    "\n",
    "class RNN(nn.Module):\n",
    "    def __init__(self, input_size, hidden_size, output_size):\n",
    "        super(RNN, self).__init__()\n",
    "\n",
    "        self.hidden_size = hidden_size\n",
    "\n",
    "        self.i2h = nn.Linear(input_size + hidden_size, hidden_size)\n",
    "        self.i2o = nn.Linear(input_size + hidden_size, output_size)\n",
    "        self.softmax = nn.LogSoftmax(dim=1)\n",
    "\n",
    "    def forward(self, input, hidden):\n",
    "        combined = torch.cat((input, hidden), 1)\n",
    "        hidden = self.i2h(combined)\n",
    "        output = self.i2o(combined)\n",
    "        output = self.softmax(output)\n",
    "        return output, hidden\n",
    "\n",
    "    def initHidden(self):\n",
    "        return torch.zeros(1, self.hidden_size)\n",
    "\n",
    "n_hidden = 128\n",
    "rnn = RNN(n_letters, n_hidden, n_categories)\n",
    "print(rnn)"
   ]
  },
  {
   "cell_type": "markdown",
   "metadata": {
    "colab_type": "text",
    "id": "fhxOqo0mUfx-"
   },
   "source": [
    "To run a step of this network we need to pass an input (in our case, the\n",
    "Tensor for the current letter) and a previous hidden state (which we\n",
    "initialize as zeros at first). We'll get back the output (probability of\n",
    "each language) and a next hidden state (which we keep for the next\n",
    "step).\n",
    "\n",
    "\n"
   ]
  },
  {
   "cell_type": "code",
   "execution_count": 0,
   "metadata": {
    "colab": {},
    "colab_type": "code",
    "id": "5zjQ-ZXbUfx-"
   },
   "outputs": [],
   "source": [
    "input = letterToTensor('A')\n",
    "hidden =torch.zeros(1, n_hidden)\n",
    "\n",
    "output, next_hidden = rnn(input, hidden)"
   ]
  },
  {
   "cell_type": "markdown",
   "metadata": {
    "colab_type": "text",
    "id": "juc150V5UfyB"
   },
   "source": [
    "For the sake of efficiency we don't want to be creating a new Tensor for\n",
    "every step, so we will use ``lineToTensor`` instead of\n",
    "``letterToTensor`` and use slices. This could be further optimized by\n",
    "pre-computing batches of Tensors.\n",
    "\n",
    "\n"
   ]
  },
  {
   "cell_type": "code",
   "execution_count": 7,
   "metadata": {
    "colab": {
     "base_uri": "https://localhost:8080/",
     "height": 173
    },
    "colab_type": "code",
    "executionInfo": {
     "elapsed": 482,
     "status": "ok",
     "timestamp": 1564364712794,
     "user": {
      "displayName": "Mehdi Abbasi",
      "photoUrl": "",
      "userId": "12903423591258086548"
     },
     "user_tz": 240
    },
    "id": "hLpj5ZVPUfyB",
    "outputId": "87071fc6-555a-45ed-d6b8-5e310e4d9b49"
   },
   "outputs": [
    {
     "name": "stdout",
     "output_type": "stream",
     "text": [
      "tensor([[-2.8769, -2.9111, -2.8236, -2.8744, -2.9096, -2.7822, -2.8050, -2.9239,\n",
      "         -2.8475, -2.9278, -2.8899, -2.7965, -3.0097, -2.9365, -2.9608, -2.9986,\n",
      "         -2.9695, -2.8239]], grad_fn=<LogSoftmaxBackward>)\n",
      "tensor([[0., 0., 0., 0., 0., 0., 0., 0., 0., 0., 0., 0., 0., 0., 0., 0., 0., 0., 0., 0., 0., 0., 0., 0.,\n",
      "         0., 0., 0., 0., 0., 0., 0., 0., 0., 0., 0., 0., 0., 0., 0., 0., 0., 0., 0., 0., 0., 0., 0., 0.,\n",
      "         0., 0., 0., 0., 0., 0., 0., 0., 0., 0., 0., 0., 0., 0., 0., 0., 0., 0., 0., 0., 0., 0., 0., 0.,\n",
      "         0., 0., 0., 0., 0., 0., 0., 0., 0., 0., 0., 0., 0., 0., 0., 0., 0., 0., 0., 0., 0., 0., 0., 0.,\n",
      "         0., 0., 0., 0., 0., 0., 0., 0., 0., 0., 0., 0., 0., 0., 0., 0., 0., 0., 0., 0., 0., 0., 0., 0.,\n",
      "         0., 0., 0., 0., 0., 0., 0., 0.]])\n"
     ]
    }
   ],
   "source": [
    "input = lineToTensor('Albert')\n",
    "hidden = torch.zeros(1, n_hidden)\n",
    "\n",
    "output, next_hidden = rnn(input[0], hidden)\n",
    "print(output)\n",
    "print(hidden)"
   ]
  },
  {
   "cell_type": "markdown",
   "metadata": {
    "colab_type": "text",
    "id": "Wy0E3nCjUfyE"
   },
   "source": [
    "As you can see the output is a ``<1 x n_categories>`` Tensor, where\n",
    "every item is the likelihood of that category (higher is more likely).\n",
    "\n",
    "\n"
   ]
  },
  {
   "cell_type": "markdown",
   "metadata": {
    "colab_type": "text",
    "id": "ukMo68ApUfyF"
   },
   "source": [
    "Training\n",
    "========\n",
    "Preparing for Training\n",
    "----------------------\n",
    "\n",
    "Before going into training we should make a few helper functions. The\n",
    "first is to interpret the output of the network, which we know to be a\n",
    "likelihood of each category. We can use ``Tensor.topk`` to get the index\n",
    "of the greatest value:\n",
    "\n",
    "\n"
   ]
  },
  {
   "cell_type": "code",
   "execution_count": 8,
   "metadata": {
    "colab": {
     "base_uri": "https://localhost:8080/",
     "height": 35
    },
    "colab_type": "code",
    "executionInfo": {
     "elapsed": 989,
     "status": "ok",
     "timestamp": 1564364716381,
     "user": {
      "displayName": "Mehdi Abbasi",
      "photoUrl": "",
      "userId": "12903423591258086548"
     },
     "user_tz": 240
    },
    "id": "bFY_yAVKUfyG",
    "outputId": "057d1af1-b63c-4124-b52b-2e04820b09a9"
   },
   "outputs": [
    {
     "name": "stdout",
     "output_type": "stream",
     "text": [
      "('Scottish', 5)\n"
     ]
    }
   ],
   "source": [
    "def categoryFromOutput(output):\n",
    "    top_n, top_i = output.topk(1)\n",
    "    category_i = top_i[0].item()\n",
    "    return all_categories[category_i], category_i\n",
    "\n",
    "print(categoryFromOutput(output))"
   ]
  },
  {
   "cell_type": "markdown",
   "metadata": {
    "colab_type": "text",
    "id": "mdDJjeS5UfyJ"
   },
   "source": [
    "We will also want a quick way to get a training example (a name and its\n",
    "language):\n",
    "\n",
    "\n"
   ]
  },
  {
   "cell_type": "code",
   "execution_count": 9,
   "metadata": {
    "colab": {
     "base_uri": "https://localhost:8080/",
     "height": 191
    },
    "colab_type": "code",
    "executionInfo": {
     "elapsed": 808,
     "status": "ok",
     "timestamp": 1564364719856,
     "user": {
      "displayName": "Mehdi Abbasi",
      "photoUrl": "",
      "userId": "12903423591258086548"
     },
     "user_tz": 240
    },
    "id": "nTNx73poUfyK",
    "outputId": "3ec3d280-1cb9-403a-8e41-1e620df37dd0"
   },
   "outputs": [
    {
     "name": "stdout",
     "output_type": "stream",
     "text": [
      "category = Italian / line = Gagliardi\n",
      "category = Spanish / line = Lobo\n",
      "category = German / line = Achilles\n",
      "category = Irish / line = Lennon\n",
      "category = Dutch / line = Rumpade\n",
      "category = German / line = Bohmer\n",
      "category = English / line = Grennan\n",
      "category = Japanese / line = Yamaguchi\n",
      "category = Polish / line = Rudaski\n",
      "category = Scottish / line = Robertson\n"
     ]
    }
   ],
   "source": [
    "import random\n",
    "\n",
    "def randomChoice(l):\n",
    "    return l[random.randint(0, len(l) - 1)]\n",
    "\n",
    "def randomTrainingExample():\n",
    "    category = randomChoice(all_categories)\n",
    "    line = randomChoice(train_data[category])\n",
    "    category_tensor = torch.tensor([all_categories.index(category)], dtype=torch.long)\n",
    "    line_tensor = lineToTensor(line)\n",
    "    return category, line, category_tensor, line_tensor\n",
    "\n",
    "for i in range(10):\n",
    "    category, line, category_tensor, line_tensor = randomTrainingExample()\n",
    "    print('category =', category, '/ line =', line)"
   ]
  },
  {
   "cell_type": "markdown",
   "metadata": {
    "colab_type": "text",
    "id": "Z4gnruWLUfyM"
   },
   "source": [
    "Training the Network\n",
    "--------------------\n",
    "\n",
    "Now all it takes to train this network is show it a bunch of examples,\n",
    "have it make guesses, and tell it if it's wrong.\n",
    "\n",
    "For the loss function ``nn.NLLLoss`` is appropriate, since the last\n",
    "layer of the RNN is ``nn.LogSoftmax``.\n",
    "\n",
    "\n"
   ]
  },
  {
   "cell_type": "code",
   "execution_count": 0,
   "metadata": {
    "colab": {},
    "colab_type": "code",
    "id": "b91CnzJPUfyM"
   },
   "outputs": [],
   "source": [
    "criterion = nn.NLLLoss()"
   ]
  },
  {
   "cell_type": "markdown",
   "metadata": {
    "colab_type": "text",
    "id": "FAp0xov1UfyP"
   },
   "source": [
    "Each loop of training will:\n",
    "\n",
    "-  Create input and target tensors\n",
    "-  Create a zeroed initial hidden state\n",
    "-  Read each letter in and\n",
    "\n",
    "   -  Keep hidden state for next letter\n",
    "\n",
    "-  Compare final output to target\n",
    "-  Back-propagate\n",
    "-  Return the output and loss\n",
    "\n",
    "\n"
   ]
  },
  {
   "cell_type": "code",
   "execution_count": 0,
   "metadata": {
    "colab": {},
    "colab_type": "code",
    "id": "ED_i2_CWUfyP"
   },
   "outputs": [],
   "source": [
    "from torch import optim\n",
    "\n",
    "learning_rate = 0.005 # If you set this too high, it might explode. If too low, it might not learn\n",
    "#optimizer = optim.Adam(rnn.parameters(), lr=learning_rate) #for defining my optimizer when not using train_GRU\n",
    "\n",
    "def train(category_tensor, line_tensor):\n",
    "    hidden = rnn.initHidden()\n",
    "\n",
    "    rnn.zero_grad()\n",
    "\n",
    "    for i in range(line_tensor.size()[0]):\n",
    "        output, hidden = rnn(line_tensor[i], hidden)\n",
    "\n",
    "    loss = criterion(output, category_tensor)\n",
    "    loss.backward()\n",
    "    \n",
    "    #optimizer.step()\n",
    "    # Add parameters' gradients to their values, multiplied by learning rate\n",
    "    for p in rnn.parameters():\n",
    "        p.data.add_(-learning_rate, p.grad.data)\n",
    "\n",
    "    return output, loss.item()"
   ]
  },
  {
   "cell_type": "markdown",
   "metadata": {
    "colab_type": "text",
    "id": "R9usmP9JUfyR"
   },
   "source": [
    "Now we just have to run that with a bunch of examples. Since the\n",
    "``train`` function returns both the output and loss we can print its\n",
    "guesses and also keep track of loss for plotting. Since there are 1000s\n",
    "of examples we print only every ``print_every`` examples, and take an\n",
    "average of the loss.\n",
    "\n",
    "\n"
   ]
  },
  {
   "cell_type": "code",
   "execution_count": 12,
   "metadata": {
    "colab": {
     "base_uri": "https://localhost:8080/",
     "height": 364
    },
    "colab_type": "code",
    "executionInfo": {
     "elapsed": 560416,
     "status": "ok",
     "timestamp": 1564365297910,
     "user": {
      "displayName": "Mehdi Abbasi",
      "photoUrl": "",
      "userId": "12903423591258086548"
     },
     "user_tz": 240
    },
    "id": "q-EUziAlUfyS",
    "outputId": "51e6662e-9aac-4408-f251-56af126a988c"
   },
   "outputs": [
    {
     "name": "stdout",
     "output_type": "stream",
     "text": [
      "5000 5% (0m 23s) 2.3048 Maolmhuaidh / Greek ✗ (Irish)\n",
      "10000 10% (0m 50s) 1.3635 Ahn / Chinese ✗ (Korean)\n",
      "15000 15% (1m 17s) 2.6574 Marshall / Japanese ✗ (Scottish)\n",
      "20000 20% (1m 44s) 0.0202 Yamakazi / Japanese ✓\n",
      "25000 25% (2m 11s) 1.5165 Kavanagh / Japanese ✗ (Irish)\n",
      "30000 30% (2m 39s) 2.6475 Kara / Japanese ✗ (Czech)\n",
      "35000 35% (3m 6s) 2.5536 Sekovora / Japanese ✗ (Czech)\n",
      "40000 40% (3m 33s) 1.7654 Sarkis / Greek ✗ (Arabic)\n",
      "45000 45% (4m 1s) 0.0500 Lawniczak / Polish ✓\n",
      "50000 50% (4m 29s) 0.6870 Vinh / Vietnamese ✓\n",
      "55000 55% (4m 56s) 0.1212 Tunnikov / Russian ✓\n",
      "60000 60% (5m 24s) 0.5420 Handal / Arabic ✓\n",
      "65000 65% (5m 51s) 1.6889 Mach / Scottish ✗ (Vietnamese)\n",
      "70000 70% (6m 27s) 2.5618 Caiazzo / Portuguese ✗ (Italian)\n",
      "75000 75% (6m 57s) 3.5632 Chernovol / French ✗ (Russian)\n",
      "80000 80% (7m 24s) 0.0211 Nghiem / Vietnamese ✓\n",
      "85000 85% (7m 52s) 3.0780 Pankhurst / Dutch ✗ (English)\n",
      "90000 90% (8m 20s) 0.2813 Jackson / Scottish ✓\n",
      "95000 95% (8m 47s) 0.1169 Lamberti / Italian ✓\n",
      "100000 100% (9m 15s) 0.9185 Banos / Greek ✓\n"
     ]
    }
   ],
   "source": [
    "import time\n",
    "import math\n",
    "\n",
    "n_iters = 100000\n",
    "print_every = 5000\n",
    "plot_every = 1000\n",
    "\n",
    "\n",
    "\n",
    "# Keep track of losses for plotting\n",
    "current_loss = 0\n",
    "all_losses = []\n",
    "all_test_losses = []\n",
    "\n",
    "def timeSince(since):\n",
    "    now = time.time()\n",
    "    s = now - since\n",
    "    m = math.floor(s / 60)\n",
    "    s -= m * 60\n",
    "    return '%dm %ds' % (m, s)\n",
    "\n",
    "# Just return an output given a line\n",
    "def evaluate(line_tensor):\n",
    "    hidden = rnn.initHidden()\n",
    "    for i in range(line_tensor.size()[0]):\n",
    "        output, hidden = rnn(line_tensor[i], hidden)\n",
    "    return output\n",
    "  \n",
    "  \n",
    "start = time.time()\n",
    "\n",
    "for iter in range(1, n_iters + 1):\n",
    "    category, line, category_tensor, line_tensor = randomTrainingExample()\n",
    "    output, loss = train(category_tensor, line_tensor)\n",
    "  \n",
    "  \n",
    "    current_loss += loss\n",
    "\n",
    "    # Print iter number, loss, name and guess\n",
    "    if iter % print_every == 0:\n",
    "        guess, guess_i = categoryFromOutput(output)\n",
    "        correct = '✓' if guess == category else '✗ (%s)' % category\n",
    "        print('%d %d%% (%s) %.4f %s / %s %s' % (iter, iter / n_iters * 100, timeSince(start), loss, line, guess, correct))\n",
    "\n",
    "    # Add current loss avg to list of losses\n",
    "    if iter % plot_every == 0:\n",
    "        all_losses.append(current_loss / plot_every)\n",
    "        current_loss = 0\n",
    "        \n",
    "    # Compute loss based on test data\n",
    "    if iter % plot_every == 0:\n",
    "        test_loss = 0\n",
    "        n_test_instances = 0\n",
    "        for category in all_categories:\n",
    "            category_tensor = Variable(torch.LongTensor([all_categories.index(category)]))\n",
    "            n_test_instances = n_test_instances + len(test_data[category])\n",
    "            for line in test_data[category]:\n",
    "                line_tensor = Variable(lineToTensor(line))\n",
    "                output = evaluate(line_tensor)\n",
    "                test_loss = test_loss + criterion(output, category_tensor)\n",
    "        all_test_losses.append(test_loss.item() / n_test_instances)\n"
   ]
  },
  {
   "cell_type": "markdown",
   "metadata": {
    "colab_type": "text",
    "id": "3mFqhbXRUfyU"
   },
   "source": [
    "Plotting the Results\n",
    "--------------------\n",
    "\n",
    "Plotting the historical loss from ``all_losses`` shows the network\n",
    "learning:\n",
    "\n",
    "\n"
   ]
  },
  {
   "cell_type": "code",
   "execution_count": 13,
   "metadata": {
    "colab": {
     "base_uri": "https://localhost:8080/",
     "height": 287
    },
    "colab_type": "code",
    "executionInfo": {
     "elapsed": 1075,
     "status": "ok",
     "timestamp": 1564365686321,
     "user": {
      "displayName": "Mehdi Abbasi",
      "photoUrl": "",
      "userId": "12903423591258086548"
     },
     "user_tz": 240
    },
    "id": "qdcD6MmgUfyV",
    "outputId": "be2daffb-c1de-4706-a32c-669eaa6eab34"
   },
   "outputs": [
    {
     "data": {
      "text/plain": [
       "[<matplotlib.lines.Line2D at 0x7feb337e7ac8>]"
      ]
     },
     "execution_count": 13,
     "metadata": {
      "tags": []
     },
     "output_type": "execute_result"
    },
    {
     "data": {
      "image/png": "[encoded data removed]",
      "text/plain": [
       "<Figure size 432x288 with 1 Axes>"
      ]
     },
     "metadata": {
      "tags": []
     },
     "output_type": "display_data"
    }
   ],
   "source": [
    "import matplotlib.pyplot as plt\n",
    "import matplotlib.ticker as ticker\n",
    "\n",
    "plt.figure()\n",
    "plt.plot(all_test_losses)"
   ]
  },
  {
   "cell_type": "markdown",
   "metadata": {
    "colab_type": "text",
    "id": "rs5yHF_cUfyY"
   },
   "source": [
    "Evaluating the Results\n",
    "======================\n",
    "\n",
    "To see how well the network performs on different categories, we will\n",
    "create a confusion matrix, indicating for every actual language (rows)\n",
    "which language the network guesses (columns). To calculate the confusion\n",
    "matrix a bunch of samples are run through the network with\n",
    "``evaluate()``, which is the same as ``train()`` minus the backprop.\n",
    "\n",
    "\n"
   ]
  },
  {
   "cell_type": "code",
   "execution_count": 14,
   "metadata": {
    "colab": {
     "base_uri": "https://localhost:8080/",
     "height": 321
    },
    "colab_type": "code",
    "executionInfo": {
     "elapsed": 10027,
     "status": "ok",
     "timestamp": 1564365773750,
     "user": {
      "displayName": "Mehdi Abbasi",
      "photoUrl": "",
      "userId": "12903423591258086548"
     },
     "user_tz": 240
    },
    "id": "El-a2qJvUfyZ",
    "outputId": "05342d07-5ed6-4541-aff7-27c7a6c4a972"
   },
   "outputs": [
    {
     "data": {
      "image/png": "[encoded data removed]",
      "text/plain": [
       "<Figure size 432x288 with 2 Axes>"
      ]
     },
     "metadata": {
      "tags": []
     },
     "output_type": "display_data"
    }
   ],
   "source": [
    "# Keep track of correct guesses in a confusion matrix\n",
    "confusion = torch.zeros(n_categories, n_categories)\n",
    "n_confusion = 10000\n",
    "\n",
    "# Go through a bunch of examples and record which are correctly guessed\n",
    "for i in range(n_confusion):\n",
    "    category, line, category_tensor, line_tensor = randomTrainingExample()\n",
    "    output = evaluate(line_tensor)\n",
    "    guess, guess_i = categoryFromOutput(output)\n",
    "    category_i = all_categories.index(category)\n",
    "    confusion[category_i][guess_i] += 1\n",
    "\n",
    "# Normalize by dividing every row by its sum\n",
    "for i in range(n_categories):\n",
    "    confusion[i] = confusion[i] / confusion[i].sum()\n",
    "\n",
    "# Set up plot\n",
    "fig = plt.figure()\n",
    "ax = fig.add_subplot(111)\n",
    "cax = ax.matshow(confusion.numpy())\n",
    "fig.colorbar(cax)\n",
    "\n",
    "# Set up axes\n",
    "ax.set_xticklabels([''] + all_categories, rotation=90)\n",
    "ax.set_yticklabels([''] + all_categories)\n",
    "\n",
    "# Force label at every tick\n",
    "ax.xaxis.set_major_locator(ticker.MultipleLocator(1))\n",
    "ax.yaxis.set_major_locator(ticker.MultipleLocator(1))\n",
    "\n",
    "# sphinx_gallery_thumbnail_number = 2\n",
    "plt.show()\n",
    "\n"
   ]
  },
  {
   "cell_type": "code",
   "execution_count": 15,
   "metadata": {
    "colab": {
     "base_uri": "https://localhost:8080/",
     "height": 35
    },
    "colab_type": "code",
    "executionInfo": {
     "elapsed": 4493,
     "status": "ok",
     "timestamp": 1564365785273,
     "user": {
      "displayName": "Mehdi Abbasi",
      "photoUrl": "",
      "userId": "12903423591258086548"
     },
     "user_tz": 240
    },
    "id": "yArqmL1P4wtu",
    "outputId": "8a72b488-855d-4109-c546-f04f3eb81430"
   },
   "outputs": [
    {
     "name": "stdout",
     "output_type": "stream",
     "text": [
      "54.134399200599546 Final test accuracy for Linear Model\n"
     ]
    }
   ],
   "source": [
    "# Keep track of correct guesses in a confusion matrix\n",
    "\n",
    "n_true_prds = 0\n",
    "total = 0\n",
    "      \n",
    "for category in all_categories:\n",
    "  for line in test_data[category]:\n",
    "    line_tensor = lineToTensor(line)\n",
    "    output = evaluate(line_tensor)\n",
    "    idx = output.topk(1).indices[0][0].numpy()\n",
    "    if all_categories[idx] == category:\n",
    "      n_true_prds += 1\n",
    "    \n",
    "    total += 1\n",
    "    \n",
    "test_accuracy_Linear = (n_true_prds/total)*100      \n",
    "print(test_accuracy_Linear, 'Final test accuracy for Linear Model')"
   ]
  },
  {
   "cell_type": "markdown",
   "metadata": {
    "colab_type": "text",
    "id": "DwU9mA1QUfyb"
   },
   "source": [
    "You can pick out bright spots off the main axis that show which\n",
    "languages it guesses incorrectly, e.g. Chinese for Korean, and Spanish\n",
    "for Italian. It seems to do very well with Greek, and very poorly with\n",
    "English (perhaps because of overlap with other languages).\n",
    "\n",
    "\n"
   ]
  },
  {
   "cell_type": "markdown",
   "metadata": {
    "colab_type": "text",
    "id": "gWg7ObZAUfyc"
   },
   "source": [
    "Running on User Input\n",
    "---------------------\n",
    "\n",
    "\n"
   ]
  },
  {
   "cell_type": "code",
   "execution_count": 16,
   "metadata": {
    "colab": {
     "base_uri": "https://localhost:8080/",
     "height": 277
    },
    "colab_type": "code",
    "executionInfo": {
     "elapsed": 804,
     "status": "ok",
     "timestamp": 1564365789367,
     "user": {
      "displayName": "Mehdi Abbasi",
      "photoUrl": "",
      "userId": "12903423591258086548"
     },
     "user_tz": 240
    },
    "id": "bbWHJnCdUfyc",
    "outputId": "ce95d5e7-dd7f-491f-a9ec-322aaeb107ce"
   },
   "outputs": [
    {
     "name": "stdout",
     "output_type": "stream",
     "text": [
      "\n",
      "> Dovesky\n",
      "(-0.79) Russian\n",
      "(-1.06) Czech\n",
      "(-1.89) English\n",
      "\n",
      "> Jackson\n",
      "(-0.31) Scottish\n",
      "(-1.60) English\n",
      "(-3.67) Russian\n",
      "\n",
      "> Satoshi\n",
      "(-1.15) Arabic\n",
      "(-1.46) Japanese\n",
      "(-1.68) Italian\n"
     ]
    }
   ],
   "source": [
    "def predict(input_line, n_predictions=3):\n",
    "    print('\\n> %s' % input_line)\n",
    "    with torch.no_grad():\n",
    "        output = evaluate(lineToTensor(input_line))\n",
    "\n",
    "        # Get top N categories\n",
    "        topv, topi = output.topk(n_predictions, 1, True)\n",
    "        predictions = []\n",
    "\n",
    "        for i in range(n_predictions):\n",
    "            value = topv[0][i].item()\n",
    "            category_index = topi[0][i].item()\n",
    "            print('(%.2f) %s' % (value, all_categories[category_index]))\n",
    "            predictions.append([value, all_categories[category_index]])\n",
    "\n",
    "predict('Dovesky')\n",
    "predict('Jackson')\n",
    "predict('Satoshi')"
   ]
  },
  {
   "cell_type": "markdown",
   "metadata": {
    "colab_type": "text",
    "id": "TWQ_XQrfUfyf"
   },
   "source": [
    "The final versions of the scripts `in the Practical PyTorch\n",
    "repo <https://github.com/spro/practical-pytorch/tree/master/char-rnn-classification>`__\n",
    "split the above code into a few files:\n",
    "\n",
    "-  ``data.py`` (loads files)\n",
    "-  ``model.py`` (defines the RNN)\n",
    "-  ``train.py`` (runs training)\n",
    "-  ``predict.py`` (runs ``predict()`` with command line arguments)\n",
    "-  ``server.py`` (serve prediction as a JSON API with bottle.py)\n",
    "\n",
    "Run ``train.py`` to train and save the network.\n",
    "\n",
    "Run ``predict.py`` with a name to view predictions:\n",
    "\n",
    "::\n",
    "\n",
    "    $ python predict.py Hazaki\n",
    "    (-0.42) Japanese\n",
    "    (-1.39) Polish\n",
    "    (-3.51) Czech\n",
    "\n",
    "Run ``server.py`` and visit http://localhost:5533/Yourname to get JSON\n",
    "output of predictions.\n",
    "\n",
    "\n"
   ]
  },
  {
   "cell_type": "markdown",
   "metadata": {
    "colab_type": "text",
    "id": "-BX4vuLxUfyg"
   },
   "source": [
    "Exercises\n",
    "=========\n",
    "\n",
    "-  Try with a different dataset of line -> category, for example:\n",
    "\n",
    "   -  Any word -> language\n",
    "   -  First name -> gender\n",
    "   -  Character name -> writer\n",
    "   -  Page title -> blog or subreddit\n",
    "\n",
    "-  Get better results with a bigger and/or better shaped network\n",
    "\n",
    "   -  Add more linear layers\n",
    "   -  Try the ``nn.LSTM`` and ``nn.GRU`` layers\n",
    "   -  Combine multiple of these RNNs as a higher level network\n",
    "\n",
    "\n"
   ]
  },
  {
   "cell_type": "markdown",
   "metadata": {
    "ExecuteTime": {
     "end_time": "2019-07-30T22:22:55.010120Z",
     "start_time": "2019-07-30T22:22:55.002056Z"
    }
   },
   "source": [
    "# Q1.a\n",
    "#### GRU Model"
   ]
  },
  {
   "cell_type": "code",
   "execution_count": 17,
   "metadata": {
    "colab": {
     "base_uri": "https://localhost:8080/",
     "height": 104
    },
    "colab_type": "code",
    "executionInfo": {
     "elapsed": 849,
     "status": "ok",
     "timestamp": 1564365793971,
     "user": {
      "displayName": "Mehdi Abbasi",
      "photoUrl": "",
      "userId": "12903423591258086548"
     },
     "user_tz": 240
    },
    "id": "GeUfEV9khVyZ",
    "outputId": "334517c9-621d-46b2-cf58-4cd5b5123c9d"
   },
   "outputs": [
    {
     "name": "stdout",
     "output_type": "stream",
     "text": [
      "RNN_GRU(\n",
      "  (gru): GRU(57, 128)\n",
      "  (gru2out): Linear(in_features=128, out_features=18, bias=True)\n",
      "  (Softmax): LogSoftmax()\n",
      ")\n"
     ]
    }
   ],
   "source": [
    "import torch.nn as nn\n",
    "from torch.autograd import Variable\n",
    "\n",
    "class RNN_GRU(nn.Module):\n",
    "    def __init__(self, input_size, hidden_size, output_size):\n",
    "        super(RNN_GRU, self).__init__()\n",
    "\n",
    "        self.hidden_size = hidden_size\n",
    "\n",
    "        self.gru = nn.GRU(input_size, hidden_size, 1)\n",
    "        self.gru2out = nn.Linear(hidden_size, output_size)\n",
    "        self.Softmax = nn.LogSoftmax(dim=1)\n",
    "\n",
    "    def forward(self, input, hidden):\n",
    "        output, hidden = self.gru(input, hidden)\n",
    "        output = output[-1]\n",
    "        output = self.gru2out(output)\n",
    "        output = self.Softmax(output)\n",
    "        return output, hidden\n",
    "\n",
    "    def initHidden(self):\n",
    "        return torch.zeros(1, 1, self.hidden_size)\n",
    "\n",
    "n_hidden = 128\n",
    "rnn_GRU = RNN_GRU(n_letters, n_hidden, n_categories)\n",
    "print(rnn_GRU)\n",
    "\n",
    "\n",
    "\n",
    "# category, line, category_tensor, line_tensor = randomTrainingExample()\n",
    "# hidden = rnn_GRU.initHidden()\n",
    "# output, hidden = rnn_GRU(line_tensor, hidden)\n",
    "# print(output)"
   ]
  },
  {
   "cell_type": "code",
   "execution_count": 0,
   "metadata": {
    "colab": {},
    "colab_type": "code",
    "id": "sWLzrVvYcfsA"
   },
   "outputs": [],
   "source": [
    "learning_rate = 0.005 # If you set this too high, it might explode. If too low, it might not learn\n",
    "\n",
    "optimizer = optim.Adam(rnn_GRU.parameters(), lr=learning_rate) #for defining my optimizer when not using train_GRU\n",
    "\n",
    "def train_GRU(category_tensor, line_tensor):\n",
    "    hidden = rnn_GRU.initHidden()\n",
    "\n",
    "    rnn_GRU.zero_grad()\n",
    "\n",
    "    output, hidden = rnn_GRU(line_tensor, hidden)\n",
    "\n",
    "    loss = criterion(output, category_tensor)\n",
    "    loss.backward()\n",
    "\n",
    "    optimizer.step()\n",
    "    \n",
    "    # Add parameters' gradients to their values, multiplied by learning rate\n",
    "#     for p in rnn_GRU.parameters():\n",
    "#         p.data.add_(-learning_rate, p.grad.data)\n",
    "\n",
    "    return output, loss.item()"
   ]
  },
  {
   "cell_type": "code",
   "execution_count": 19,
   "metadata": {
    "colab": {
     "base_uri": "https://localhost:8080/",
     "height": 347
    },
    "colab_type": "code",
    "executionInfo": {
     "elapsed": 914674,
     "status": "ok",
     "timestamp": 1564366714684,
     "user": {
      "displayName": "Mehdi Abbasi",
      "photoUrl": "",
      "userId": "12903423591258086548"
     },
     "user_tz": 240
    },
    "id": "cOAhPNOkj-El",
    "outputId": "ecc69687-033e-46c5-a495-590b61c52905"
   },
   "outputs": [
    {
     "name": "stdout",
     "output_type": "stream",
     "text": [
      "5000 5% (0m 39s) 0.0012 O'Neill / Irish ✓\n",
      "10000 10% (1m 24s) 1.0305 Mckay / Scottish ✗ (Irish)\n",
      "15000 15% (2m 10s) 0.5209 Ho / Vietnamese ✓\n",
      "20000 20% (2m 55s) 0.4166 Broz / Polish ✓\n",
      "25000 25% (3m 40s) 0.1336 Bonnay / French ✓\n",
      "30000 30% (4m 25s) 1.9238 Hopes / Arabic ✗ (English)\n",
      "35000 35% (5m 11s) 0.1336 Rodrigues / Portuguese ✓\n",
      "40000 40% (6m 3s) 0.5573 Avksentievski / Russian ✓\n",
      "45000 45% (6m 48s) 0.0391 Divnich / Russian ✓\n",
      "50000 50% (7m 33s) 0.0003 Obinata / Japanese ✓\n",
      "55000 55% (8m 19s) 0.1049 Harlanov / Russian ✓\n",
      "60000 60% (9m 4s) 0.1337 Milne / Scottish ✓\n",
      "70000 70% (10m 35s) 0.0000 Lim  / Korean ✓\n",
      "75000 75% (11m 21s) 0.0359 Krantz / Dutch ✓\n",
      "80000 80% (12m 6s) 2.7091 Han / Korean ✗ (Vietnamese)\n",
      "85000 85% (12m 52s) 0.0122 Murray / Scottish ✓\n",
      "90000 90% (13m 38s) 1.5332 Agamoff / German ✗ (Russian)\n",
      "95000 95% (14m 23s) 0.8692 Pender / Czech ✗ (Dutch)\n",
      "100000 100% (15m 8s) 0.0001 Kolijn / Dutch ✓\n"
     ]
    }
   ],
   "source": [
    "import time\n",
    "import math\n",
    "from torch import optim\n",
    "\n",
    "n_iters = 100000\n",
    "print_every = 5000\n",
    "plot_every = 1000\n",
    "\n",
    "#myLearning_rate = 0.005 # If you set this too high, it might explode. If too low, it might not learn\n",
    "\n",
    "\n",
    "# Keep track of losses for plotting\n",
    "current_loss = 0\n",
    "all_losses_GRU = []\n",
    "all_test_losses_GRU = []\n",
    "\n",
    "def timeSince(since):\n",
    "    now = time.time()\n",
    "    s = now - since\n",
    "    m = math.floor(s / 60)\n",
    "    s -= m * 60\n",
    "    return '%dm %ds' % (m, s)\n",
    "\n",
    "# Just return an output given a line\n",
    "def evaluate_GRU(line_tensor):\n",
    "    hidden = rnn_GRU.initHidden()\n",
    "    output, hidden = rnn_GRU(line_tensor, hidden)\n",
    "    return output\n",
    "\n",
    "\n",
    "\n",
    "start = time.time()\n",
    "\n",
    "for iter in range(1, n_iters + 1):\n",
    "    category, line, category_tensor, line_tensor = randomTrainingExample()\n",
    "    \n",
    "    output, loss = train_GRU(category_tensor, line_tensor)\n",
    "    \n",
    "#     hidden = rnn_GRU.initHidden()\n",
    "#     rnn_GRU.zero_grad()\n",
    "#     output, hidden = rnn_GRU(line_tensor, hidden)\n",
    "#     loss = criterion(output, category_tensor)\n",
    "#     loss.backward()\n",
    "#     #optimizer.step()\n",
    "#     loss = loss.item()\n",
    "\n",
    "    current_loss += loss\n",
    " \n",
    "    # Print iter number, loss, name and guess\n",
    "    if iter % print_every == 0:\n",
    "        guess, guess_i = categoryFromOutput(output)\n",
    "        correct = '✓' if guess == category else '✗ (%s)' % category\n",
    "        print('%d %d%% (%s) %.4f %s / %s %s' % (iter, iter / n_iters * 100, timeSince(start), loss, line, guess, correct))\n",
    "\n",
    "    # Add current loss avg to list of losses\n",
    "    if iter % plot_every == 0:\n",
    "        all_losses_GRU.append(current_loss / plot_every)\n",
    "        current_loss = 0\n",
    "        \n",
    "    # Compute loss based on test data\n",
    "    if iter % plot_every == 0:\n",
    "        test_loss = 0\n",
    "        n_test_instances = 0\n",
    "        for category in all_categories:\n",
    "            category_tensor = Variable(torch.LongTensor([all_categories.index(category)]))\n",
    "            n_test_instances = n_test_instances + len(test_data[category])\n",
    "            for line in test_data[category]:\n",
    "                line_tensor = Variable(lineToTensor(line))\n",
    "                output = evaluate_GRU(line_tensor)\n",
    "                test_loss = test_loss + criterion(output, category_tensor)\n",
    "        all_test_losses_GRU.append(test_loss.item() / n_test_instances)\n"
   ]
  },
  {
   "cell_type": "code",
   "execution_count": 20,
   "metadata": {
    "colab": {
     "base_uri": "https://localhost:8080/",
     "height": 287
    },
    "colab_type": "code",
    "executionInfo": {
     "elapsed": 1163,
     "status": "ok",
     "timestamp": 1564367162989,
     "user": {
      "displayName": "Mehdi Abbasi",
      "photoUrl": "",
      "userId": "12903423591258086548"
     },
     "user_tz": 240
    },
    "id": "RPCB-h1J_oqr",
    "outputId": "4fe6931b-0f8f-4627-bc30-ab66ddc2eb69"
   },
   "outputs": [
    {
     "data": {
      "text/plain": [
       "[<matplotlib.lines.Line2D at 0x7feb30e85ba8>]"
      ]
     },
     "execution_count": 20,
     "metadata": {
      "tags": []
     },
     "output_type": "execute_result"
    },
    {
     "data": {
      "image/png": "[encoded data removed]",
      "text/plain": [
       "<Figure size 432x288 with 1 Axes>"
      ]
     },
     "metadata": {
      "tags": []
     },
     "output_type": "display_data"
    }
   ],
   "source": [
    "import matplotlib.pyplot as plt\n",
    "import matplotlib.ticker as ticker\n",
    "\n",
    "plt.figure()\n",
    "plt.plot(all_test_losses_GRU)"
   ]
  },
  {
   "cell_type": "markdown",
   "metadata": {
    "colab_type": "text",
    "id": "PyUVUHnmnkS6"
   },
   "source": [
    "**Evaluating the Result of GRU Model**"
   ]
  },
  {
   "cell_type": "code",
   "execution_count": 21,
   "metadata": {
    "colab": {
     "base_uri": "https://localhost:8080/",
     "height": 35
    },
    "colab_type": "code",
    "executionInfo": {
     "elapsed": 5023,
     "status": "ok",
     "timestamp": 1564367170865,
     "user": {
      "displayName": "Mehdi Abbasi",
      "photoUrl": "",
      "userId": "12903423591258086548"
     },
     "user_tz": 240
    },
    "id": "91MbgrW-njSi",
    "outputId": "7e8e8b5e-2dec-4aa0-aec3-e6642a8ab115"
   },
   "outputs": [
    {
     "name": "stdout",
     "output_type": "stream",
     "text": [
      "65.77566824881339 Final test accuracy for GRU Model\n"
     ]
    }
   ],
   "source": [
    "# Keep track of correct guesses in a confusion matrix\n",
    "\n",
    "n_true_prds = 0\n",
    "total = 0\n",
    "      \n",
    "for category in all_categories:\n",
    "  for line in test_data[category]:\n",
    "    line_tensor = lineToTensor(line)\n",
    "    output = evaluate_GRU(line_tensor)\n",
    "    idx = output.topk(1).indices[0][0].numpy()\n",
    "    if all_categories[idx] == category:\n",
    "      n_true_prds += 1\n",
    "    \n",
    "    total += 1\n",
    "    \n",
    "      \n",
    "test_accuracy_GRU = (n_true_prds/total)*100      \n",
    "print(test_accuracy_GRU, 'Final test accuracy for GRU Model')"
   ]
  },
  {
   "cell_type": "markdown",
   "metadata": {
    "colab_type": "text",
    "id": "JV5qgmVCsNQr"
   },
   "source": [
    "**LSTM Model**"
   ]
  },
  {
   "cell_type": "code",
   "execution_count": 22,
   "metadata": {
    "colab": {
     "base_uri": "https://localhost:8080/",
     "height": 104
    },
    "colab_type": "code",
    "executionInfo": {
     "elapsed": 883,
     "status": "ok",
     "timestamp": 1564367174897,
     "user": {
      "displayName": "Mehdi Abbasi",
      "photoUrl": "",
      "userId": "12903423591258086548"
     },
     "user_tz": 240
    },
    "id": "pZxs0U46xHvJ",
    "outputId": "cd12d8f7-d0c4-4f0c-dce2-742ff51fe918"
   },
   "outputs": [
    {
     "name": "stdout",
     "output_type": "stream",
     "text": [
      "RNN_LSTM(\n",
      "  (lstm): LSTM(57, 128)\n",
      "  (lstm2out): Linear(in_features=128, out_features=18, bias=True)\n",
      "  (Softmax): LogSoftmax()\n",
      ")\n"
     ]
    }
   ],
   "source": [
    "import torch.nn as nn\n",
    "from torch.autograd import Variable\n",
    "\n",
    "class RNN_LSTM(nn.Module):\n",
    "    def __init__(self, input_size, hidden_size, output_size):\n",
    "        super(RNN_LSTM, self).__init__()\n",
    "\n",
    "        self.hidden_size = hidden_size\n",
    "\n",
    "        self.lstm = nn.LSTM(input_size, hidden_size, 1)\n",
    "        self.lstm2out = nn.Linear(hidden_size, output_size)\n",
    "        self.Softmax = nn.LogSoftmax(dim=1)\n",
    "\n",
    "    def forward(self, input, hidden, cell):\n",
    "        output, (hidden, cell) = self.lstm(input, (hidden, cell))\n",
    "        output = output[-1]\n",
    "        output = self.lstm2out(output)\n",
    "        output = self.Softmax(output)\n",
    "        return output, (hidden, cell)\n",
    "\n",
    "    def initStates(self):\n",
    "        return torch.zeros(1, 1, self.hidden_size)\n",
    "    \n",
    "\n",
    "n_hidden = 128\n",
    "rnn_LSTM = RNN_LSTM(n_letters, n_hidden, n_categories)\n",
    "print(rnn_LSTM)\n",
    "\n",
    "\n",
    "\n",
    "# category, line, category_tensor, line_tensor = randomTrainingExample()\n",
    "# hidden = rnn_LSTM.initStates()\n",
    "# print(hidden)\n",
    "# cell = rnn_LSTM.initStates()\n",
    "# print(cell)\n",
    "# output, (hidden, cell) = rnn_LSTM(line_tensor, hidden, cell)\n",
    "# print(output)"
   ]
  },
  {
   "cell_type": "code",
   "execution_count": 0,
   "metadata": {
    "colab": {},
    "colab_type": "code",
    "id": "i54wWUi44tNl"
   },
   "outputs": [],
   "source": [
    "learning_rate = 0.005 # If you set this too high, it might explode. If too low, it might not learn\n",
    "\n",
    "optimizer = optim.Adam(rnn_LSTM.parameters(), lr=learning_rate) #for defining my optimizer when not using train_GRU\n",
    "\n",
    "def train_LSTM(category_tensor, line_tensor):\n",
    "    hidden = rnn_LSTM.initStates()\n",
    "    cell = rnn_LSTM.initStates()\n",
    "\n",
    "    rnn_LSTM.zero_grad()\n",
    "\n",
    "    output, (hidden, cell) = rnn_LSTM(line_tensor, hidden, cell)\n",
    "\n",
    "    loss = criterion(output, category_tensor)\n",
    "    loss.backward()\n",
    "    \n",
    "    optimizer.step()\n",
    "\n",
    "#     # Add parameters' gradients to their values, multiplied by learning rate\n",
    "#     for p in rnn_LSTM.parameters():\n",
    "#         p.data.add_(-learning_rate, p.grad.data)\n",
    "\n",
    "    return output, loss.item()"
   ]
  },
  {
   "cell_type": "code",
   "execution_count": 24,
   "metadata": {
    "colab": {
     "base_uri": "https://localhost:8080/",
     "height": 364
    },
    "colab_type": "code",
    "executionInfo": {
     "elapsed": 972850,
     "status": "ok",
     "timestamp": 1564368156940,
     "user": {
      "displayName": "Mehdi Abbasi",
      "photoUrl": "",
      "userId": "12903423591258086548"
     },
     "user_tz": 240
    },
    "id": "n0YBpzlj71wI",
    "outputId": "36928ec7-6e69-426a-8a99-7df988384bc5"
   },
   "outputs": [
    {
     "name": "stdout",
     "output_type": "stream",
     "text": [
      "5000 5% (0m 42s) 1.7663 Rim / Scottish ✗ (Korean)\n",
      "10000 10% (1m 34s) 0.1419 Mccallum / Scottish ✓\n",
      "15000 15% (2m 28s) 0.1061 Czajka / Polish ✓\n",
      "20000 20% (3m 15s) 1.8684 Munro / Spanish ✗ (Scottish)\n",
      "25000 25% (4m 2s) 1.2162 Kruse / Japanese ✗ (German)\n",
      "30000 30% (4m 50s) 0.5281 Mayuzumi / Japanese ✓\n",
      "35000 35% (5m 38s) 0.0294 Ta / Vietnamese ✓\n",
      "40000 40% (6m 25s) 0.2132 Everton / English ✓\n",
      "45000 45% (7m 13s) 1.4129 Koziol / Czech ✗ (Polish)\n",
      "50000 50% (8m 1s) 0.0025 Coupe / French ✓\n",
      "55000 55% (8m 49s) 0.5126 Niftrik / Dutch ✓\n",
      "60000 60% (9m 37s) 0.0598 Blaise / French ✓\n",
      "65000 65% (10m 26s) 0.0384 Bazzi / Arabic ✓\n",
      "70000 70% (11m 14s) 0.0074 Pozzi / Italian ✓\n",
      "75000 75% (12m 4s) 0.3311 Broomfield / English ✓\n",
      "80000 80% (12m 52s) 0.0105 Aiza / Spanish ✓\n",
      "85000 85% (13m 41s) 3.2347 Kruckel / Dutch ✗ (German)\n",
      "90000 90% (14m 29s) 1.7792 Schwarz / Polish ✗ (German)\n",
      "95000 95% (15m 18s) 0.6421 Rallis / Greek ✓\n",
      "100000 100% (16m 6s) 0.0001 Chuvyrov / Russian ✓\n"
     ]
    }
   ],
   "source": [
    "import time\n",
    "import math\n",
    "from torch import optim\n",
    "\n",
    "n_iters = 100000\n",
    "print_every = 5000\n",
    "plot_every = 1000\n",
    "\n",
    "# Keep track of losses for plotting\n",
    "current_loss = 0\n",
    "all_losses_LSTM = []\n",
    "all_test_losses_LSTM = []\n",
    "\n",
    "def timeSince(since):\n",
    "    now = time.time()\n",
    "    s = now - since\n",
    "    m = math.floor(s / 60)\n",
    "    s -= m * 60\n",
    "    return '%dm %ds' % (m, s)\n",
    "\n",
    "# Just return an output given a line\n",
    "def evaluate_LSTM(line_tensor):\n",
    "    hidden = rnn_LSTM.initStates()\n",
    "    cell = rnn_LSTM.initStates()\n",
    "    output, (hidden, cell) = rnn_LSTM(line_tensor, hidden, cell)\n",
    "    return output\n",
    "\n",
    "\n",
    "\n",
    "start = time.time()\n",
    "\n",
    "for iter in range(1, n_iters + 1):\n",
    "    category, line, category_tensor, line_tensor = randomTrainingExample()\n",
    "    \n",
    "    output, loss = train_LSTM(category_tensor, line_tensor)\n",
    "    \n",
    "    current_loss += loss\n",
    " \n",
    "    # Print iter number, loss, name and guess\n",
    "    if iter % print_every == 0:\n",
    "        guess, guess_i = categoryFromOutput(output)\n",
    "        correct = '✓' if guess == category else '✗ (%s)' % category\n",
    "        print('%d %d%% (%s) %.4f %s / %s %s' % (iter, iter / n_iters * 100, timeSince(start), loss, line, guess, correct))\n",
    "\n",
    "    # Add current loss avg to list of losses\n",
    "    if iter % plot_every == 0:\n",
    "        all_losses_LSTM.append(current_loss / plot_every)\n",
    "        current_loss = 0\n",
    "        \n",
    "    # Compute loss based on test data\n",
    "    if iter % plot_every == 0:\n",
    "        test_loss = 0\n",
    "        n_test_instances = 0\n",
    "        for category in all_categories:\n",
    "            category_tensor = Variable(torch.LongTensor([all_categories.index(category)]))\n",
    "            n_test_instances = n_test_instances + len(test_data[category])\n",
    "            for line in test_data[category]:\n",
    "                line_tensor = Variable(lineToTensor(line))\n",
    "                output = evaluate_LSTM(line_tensor)\n",
    "                test_loss = test_loss + criterion(output, category_tensor)\n",
    "        all_test_losses_LSTM.append(test_loss.item() / n_test_instances)\n"
   ]
  },
  {
   "cell_type": "code",
   "execution_count": 25,
   "metadata": {
    "colab": {
     "base_uri": "https://localhost:8080/",
     "height": 287
    },
    "colab_type": "code",
    "executionInfo": {
     "elapsed": 997,
     "status": "ok",
     "timestamp": 1564368185563,
     "user": {
      "displayName": "Mehdi Abbasi",
      "photoUrl": "",
      "userId": "12903423591258086548"
     },
     "user_tz": 240
    },
    "id": "U3d5zIuH9DWB",
    "outputId": "ee25f6ba-df2c-451a-be18-03cc072d324a"
   },
   "outputs": [
    {
     "data": {
      "text/plain": [
       "[<matplotlib.lines.Line2D at 0x7feb30dfc780>]"
      ]
     },
     "execution_count": 25,
     "metadata": {
      "tags": []
     },
     "output_type": "execute_result"
    },
    {
     "data": {
      "image/png": "[encoded data removed]",
      "text/plain": [
       "<Figure size 432x288 with 1 Axes>"
      ]
     },
     "metadata": {
      "tags": []
     },
     "output_type": "display_data"
    }
   ],
   "source": [
    "import matplotlib.pyplot as plt\n",
    "import matplotlib.ticker as ticker\n",
    "\n",
    "plt.figure()\n",
    "plt.plot(all_test_losses_LSTM)"
   ]
  },
  {
   "cell_type": "code",
   "execution_count": 26,
   "metadata": {
    "colab": {
     "base_uri": "https://localhost:8080/",
     "height": 35
    },
    "colab_type": "code",
    "executionInfo": {
     "elapsed": 4883,
     "status": "ok",
     "timestamp": 1564368192956,
     "user": {
      "displayName": "Mehdi Abbasi",
      "photoUrl": "",
      "userId": "12903423591258086548"
     },
     "user_tz": 240
    },
    "id": "V7AQJlY3pcSL",
    "outputId": "a5ad7b67-c4bf-4cf0-ab95-3c877ed0c95a"
   },
   "outputs": [
    {
     "name": "stdout",
     "output_type": "stream",
     "text": [
      "71.72120909318012 Final test accuracy for GRU Model\n"
     ]
    }
   ],
   "source": [
    "# Keep track of correct guesses in a confusion matrix\n",
    "\n",
    "n_true_prds = 0\n",
    "total = 0\n",
    "      \n",
    "for category in all_categories:\n",
    "  for line in test_data[category]:\n",
    "    line_tensor = lineToTensor(line)\n",
    "    output = evaluate_LSTM(line_tensor)\n",
    "    idx = output.topk(1).indices[0][0].numpy()\n",
    "    if all_categories[idx] == category:\n",
    "      n_true_prds += 1\n",
    "    \n",
    "    total += 1\n",
    "    \n",
    "      \n",
    "test_accuracy_LSTM = (n_true_prds/total)*100      \n",
    "print(test_accuracy_LSTM, 'Final test accuracy for GRU Model')\n"
   ]
  },
  {
   "cell_type": "code",
   "execution_count": 27,
   "metadata": {
    "colab": {
     "base_uri": "https://localhost:8080/",
     "height": 313
    },
    "colab_type": "code",
    "executionInfo": {
     "elapsed": 1159,
     "status": "ok",
     "timestamp": 1564368200142,
     "user": {
      "displayName": "Mehdi Abbasi",
      "photoUrl": "",
      "userId": "12903423591258086548"
     },
     "user_tz": 240
    },
    "id": "jEU-u64M9QIJ",
    "outputId": "e4a7f5aa-69a0-418e-a62e-e42fd05cfbde",
    "scrolled": true
   },
   "outputs": [
    {
     "data": {
      "text/plain": [
       "<matplotlib.legend.Legend at 0x7feb30dc4fd0>"
      ]
     },
     "execution_count": 27,
     "metadata": {
      "tags": []
     },
     "output_type": "execute_result"
    },
    {
     "data": {
      "image/png": "[encoded data removed]",
      "text/plain": [
       "<Figure size 432x288 with 1 Axes>"
      ]
     },
     "metadata": {
      "tags": []
     },
     "output_type": "display_data"
    }
   ],
   "source": [
    "import matplotlib.pyplot as plt\n",
    "import matplotlib.ticker as ticker\n",
    "\n",
    "plt.figure()\n",
    "plt.plot(all_test_losses, label = 'Linear')\n",
    "plt.plot(all_test_losses_GRU, label = 'GRU')\n",
    "plt.plot(all_test_losses_LSTM, label = 'LSTM')\n",
    "plt.title('A5Q1a Results: Encoder Implementation')\n",
    "plt.ylabel('Test Loss')\n",
    "plt.xlabel('Thousands of iterations')\n",
    "plt.legend()\n",
    "plt.legend()"
   ]
  },
  {
   "cell_type": "markdown",
   "metadata": {
    "ExecuteTime": {
     "end_time": "2019-07-30T22:28:01.912747Z",
     "start_time": "2019-07-30T22:28:01.909001Z"
    }
   },
   "source": [
    "### Explanation of the results"
   ]
  },
  {
   "cell_type": "markdown",
   "metadata": {},
   "source": [
    "In the follwing cell the comparison between the final accuracy of (1) Linear, (2) GRU, and (3) LSTM models are presented. As can be seen in the graphs, as well, the best performance is for the RNN using LSTM cell, then comes the model with GRU cell, and finally the Linear model ranked 3rd.  That's partly because of considerating $memorization$ and $forgetting$ gates in LSTM and GRU cells. In addition, architecture of these cells enable them to mitigate $gradient$ $vanishig$. Although both GRU and LSTM cells have have the mentioned properties, their comparative performance is problem-related. For the case of this problem, LSTM has better performance than GRU.  \n",
    "\n",
    "I should mention that I changed the optimization method to $adams$ for GRU and LSTM models. The perforance could be improved even more by adjusting the parameters of optimizer e.g., learning rate.\n"
   ]
  },
  {
   "cell_type": "code",
   "execution_count": 28,
   "metadata": {
    "colab": {
     "base_uri": "https://localhost:8080/",
     "height": 69
    },
    "colab_type": "code",
    "executionInfo": {
     "elapsed": 874,
     "status": "ok",
     "timestamp": 1564368204554,
     "user": {
      "displayName": "Mehdi Abbasi",
      "photoUrl": "",
      "userId": "12903423591258086548"
     },
     "user_tz": 240
    },
    "id": "zY4ePJoFxHSV",
    "outputId": "be4e8395-014a-4480-b760-60c6cd0c5b58"
   },
   "outputs": [
    {
     "name": "stdout",
     "output_type": "stream",
     "text": [
      "54.134399200599546 Final test accuracy for Linear Model\n",
      "65.77566824881339 Final test accuracy for GRU Model\n",
      "71.72120909318012 Final test accuracy for LSTM Model\n"
     ]
    }
   ],
   "source": [
    "print(test_accuracy_Linear, 'Final test accuracy for Linear Model')\n",
    "print(test_accuracy_GRU, 'Final test accuracy for GRU Model')\n",
    "print(test_accuracy_LSTM, 'Final test accuracy for LSTM Model')"
   ]
  }
 ],
 "metadata": {
  "accelerator": "GPU",
  "colab": {
   "collapsed_sections": [],
   "name": "A5Q1a-cs480_char_rnn_classification_tutorial.ipynb",
   "provenance": [],
   "version": "0.3.2"
  },
  "kernelspec": {
   "display_name": "Python 3",
   "language": "python",
   "name": "python3"
  },
  "language_info": {
   "codemirror_mode": {
    "name": "ipython",
    "version": 3
   },
   "file_extension": ".py",
   "mimetype": "text/x-python",
   "name": "python",
   "nbconvert_exporter": "python",
   "pygments_lexer": "ipython3",
   "version": "3.7.3"
  }
 },
 "nbformat": 4,
 "nbformat_minor": 1
}
