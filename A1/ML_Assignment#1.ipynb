{
 "cells": [
  {
   "cell_type": "code",
   "execution_count": 1,
   "metadata": {
    "ExecuteTime": {
     "end_time": "2019-05-30T21:08:18.739783Z",
     "start_time": "2019-05-30T21:08:18.123693Z"
    }
   },
   "outputs": [],
   "source": [
    "#Import the packages\n",
    "\n",
    "import numpy as np\n",
    "import pandas as pd\n",
    "from collections import Counter\n",
    "import random\n",
    "import statistics as stat\n",
    "#from scipy import stats\n",
    "from scipy.spatial.distance import cdist\n",
    "import matplotlib.pyplot as plt\n"
   ]
  },
  {
   "cell_type": "markdown",
   "metadata": {},
   "source": [
    "### Assignment #1: Question 1"
   ]
  },
  {
   "cell_type": "code",
   "execution_count": 2,
   "metadata": {
    "ExecuteTime": {
     "end_time": "2019-05-30T21:08:22.379109Z",
     "start_time": "2019-05-30T21:08:22.261336Z"
    }
   },
   "outputs": [],
   "source": [
    "#importing data from Excel as a numpy array\n",
    "testData = pd.read_csv(\"knn-dataset/testData.csv\",sep=',',header=None).values\n",
    "\n",
    "testLabels = pd.read_csv(\"knn-dataset/testLabels.csv\",sep=',',header=None).values\n",
    "\n",
    "trainData = np.zeros([1000,64])\n",
    "trainLabels = np.zeros([1000,1])\n",
    "\n",
    "trainData[0:100] = pd.read_csv(\"knn-dataset/trainData1.csv\",sep=',',header=None).values\n",
    "trainData[100:200] = pd.read_csv(\"knn-dataset/trainData2.csv\",sep=',',header=None).values\n",
    "trainData[200:300] = pd.read_csv(\"knn-dataset/trainData3.csv\",sep=',',header=None).values\n",
    "trainData[300:400] = pd.read_csv(\"knn-dataset/trainData4.csv\",sep=',',header=None).values\n",
    "trainData[400:500] = pd.read_csv(\"knn-dataset/trainData5.csv\",sep=',',header=None).values\n",
    "trainData[500:600] = pd.read_csv(\"knn-dataset/trainData6.csv\",sep=',',header=None).values\n",
    "trainData[600:700] = pd.read_csv(\"knn-dataset/trainData7.csv\",sep=',',header=None).values\n",
    "trainData[700:800] = pd.read_csv(\"knn-dataset/trainData8.csv\",sep=',',header=None).values\n",
    "trainData[800:900] = pd.read_csv(\"knn-dataset/trainData9.csv\",sep=',',header=None).values\n",
    "trainData[900:1000] = pd.read_csv(\"knn-dataset/trainData10.csv\",sep=',',header=None).values\n",
    "\n",
    "trainLabels[0:100] = pd.read_csv(\"knn-dataset/trainLabels1.csv\",sep=',',header=None).values\n",
    "trainLabels[100:200] = pd.read_csv(\"knn-dataset/trainLabels2.csv\",sep=',',header=None).values\n",
    "trainLabels[200:300] = pd.read_csv(\"knn-dataset/trainLabels3.csv\",sep=',',header=None).values\n",
    "trainLabels[300:400] = pd.read_csv(\"knn-dataset/trainLabels4.csv\",sep=',',header=None).values\n",
    "trainLabels[400:500] = pd.read_csv(\"knn-dataset/trainLabels5.csv\",sep=',',header=None).values\n",
    "trainLabels[500:600] = pd.read_csv(\"knn-dataset/trainLabels6.csv\",sep=',',header=None).values\n",
    "trainLabels[600:700] = pd.read_csv(\"knn-dataset/trainLabels7.csv\",sep=',',header=None).values\n",
    "trainLabels[700:800] = pd.read_csv(\"knn-dataset/trainLabels8.csv\",sep=',',header=None).values\n",
    "trainLabels[800:900] = pd.read_csv(\"knn-dataset/trainLabels9.csv\",sep=',',header=None).values\n",
    "trainLabels[900:1000] = pd.read_csv(\"knn-dataset/trainLabels10.csv\",sep=',',header=None).values"
   ]
  },
  {
   "cell_type": "code",
   "execution_count": 3,
   "metadata": {
    "ExecuteTime": {
     "end_time": "2019-05-30T21:08:28.549725Z",
     "start_time": "2019-05-30T21:08:28.535735Z"
    }
   },
   "outputs": [],
   "source": [
    "#takes the distances of one sample w.r.t other samples and find the label of the sample \n",
    "\n",
    "def knn(k, trainingData, trainingLabels, testingData):\n",
    "    \n",
    "    distance = cdist(testingData, trainingData, 'euclidean')\n",
    "    \n",
    "    indexKnn = distance.argsort()[:,:k]  \n",
    "    \n",
    "    labelKnn = trainingLabels[indexKnn]\n",
    "    labelKnn = np.reshape(labelKnn,(labelKnn.shape[0],labelKnn.shape[1]))\n",
    "    \n",
    "    testingLabels=np.zeros(len(labelKnn))\n",
    "   \n",
    "    for i in range(len(labelKnn)):\n",
    "        if (Counter(labelKnn[i])[5] == Counter(labelKnn[i])[6]) :\n",
    "            testingLabels[i] = random.choice([5,6])\n",
    "        else:\n",
    "            testingLabels[i] = stat.mode(labelKnn[i])\n",
    "            #testingLabels[i] = stats.mode(labelKnn[i])[0]  \n",
    "\n",
    "    testingLabels= np.array([testingLabels]).T\n",
    "    \n",
    "    return testingLabels"
   ]
  },
  {
   "cell_type": "code",
   "execution_count": 4,
   "metadata": {
    "ExecuteTime": {
     "end_time": "2019-05-30T21:08:30.281649Z",
     "start_time": "2019-05-30T21:08:30.273671Z"
    }
   },
   "outputs": [],
   "source": [
    "# Testing function\n",
    "\n",
    "def test(k, trainingData, trainingLabels, testingData, testingLabels): \n",
    "    classifiedLabels = knn(k, trainingData, trainingLabels, testingData)\n",
    "        \n",
    "    accuracy_k = np.sum(np.equal(classifiedLabels, testingLabels)==True)/len(testingLabels)*100\n",
    "    \n",
    "    return accuracy_k"
   ]
  },
  {
   "cell_type": "code",
   "execution_count": 5,
   "metadata": {
    "ExecuteTime": {
     "end_time": "2019-05-30T21:09:07.810288Z",
     "start_time": "2019-05-30T21:08:34.867967Z"
    },
    "scrolled": false
   },
   "outputs": [
    {
     "name": "stdout",
     "output_type": "stream",
     "text": [
      "k*:  3\n",
      "h:  [[6. 5. 6. 6. 6. 6. 6. 6. 5. 5. 6. 5. 5. 6. 6. 6. 6. 5. 5. 5. 5. 6. 6. 5.\n",
      "  6. 6. 6. 5. 5. 5. 5. 6. 5. 5. 5. 5. 5. 5. 5. 6. 6. 5. 6. 6. 5. 5. 5. 6.\n",
      "  5. 6. 5. 6. 5. 6. 6. 5. 5. 6. 6. 5. 6. 6. 5. 6. 5. 5. 6. 6. 6. 6. 5. 6.\n",
      "  5. 5. 5. 5. 6. 5. 6. 6. 6. 5. 5. 6. 6. 6. 5. 6. 6. 5. 6. 6. 6. 6. 6. 5.\n",
      "  5. 5. 6. 6. 6. 5. 5. 5. 6. 5. 5. 5. 6. 5. 6. 5. 5. 5. 5. 6. 5. 5. 6. 6.\n",
      "  5. 6. 6. 5. 6. 5. 5. 6. 5. 6. 6. 5. 5. 5. 6. 5. 5. 5. 6. 5. 5. 5. 6. 5.\n",
      "  6. 6. 6. 6. 5. 5. 5. 6. 6. 5. 6. 5. 5. 6. 6. 5. 5. 5. 5. 5. 6. 6. 6. 6.\n",
      "  5. 5. 6. 5. 5. 5. 6. 6. 6. 6. 5. 6. 6. 5. 5. 6. 5. 5. 5. 5. 5. 5. 6. 5.\n",
      "  5. 6. 6. 6. 6. 5. 6. 5. 5. 5. 6. 5. 6. 5. 6. 5. 6. 6. 6. 6. 5. 5. 6. 5.\n",
      "  5. 6. 5. 5. 6. 5. 6. 5. 5. 6. 5. 6. 6. 5. 5. 6. 5. 5. 6. 6. 5. 6. 5. 5.\n",
      "  5. 6. 6. 6. 5. 6. 5. 6. 5. 5. 6. 5. 6. 5. 5. 5. 6. 6. 5. 5. 5. 6. 6. 6.\n",
      "  5. 6. 5. 5. 5. 5. 5. 5. 6. 6. 6. 5. 6. 6. 6. 6. 5. 5. 6. 6. 5. 6. 5. 6.\n",
      "  6. 5. 5. 5. 6. 5. 6. 5. 6. 6. 6. 5. 5. 6. 6. 6. 6. 6. 5. 5. 6. 6. 6. 5.\n",
      "  6. 6. 5. 5. 6. 5. 5. 5. 5. 5. 6. 6. 5. 6. 5. 6. 6. 5. 6. 5. 6. 6. 6. 6.\n",
      "  5. 5. 6. 6. 5. 6. 5. 5. 6. 5. 5. 5. 5. 5. 6. 5. 5. 6. 6. 6. 6. 5. 5. 6.\n",
      "  6. 5. 5. 6. 5. 5. 5. 6. 6. 5. 5. 5. 6. 6. 5. 6. 5. 5. 6. 6. 5. 5. 6. 5.\n",
      "  5. 6. 6. 6. 6. 5. 5. 6. 5. 6. 5. 5. 5. 5. 5. 5. 5. 6. 6. 5. 5. 5. 6. 5.\n",
      "  6. 5. 6. 6. 6. 5. 6. 6. 5. 6. 5. 6. 6. 5. 5. 6. 5. 5. 6. 5. 5. 6. 5. 6.\n",
      "  5. 6. 6. 6. 5. 5. 5. 5. 6. 5. 5. 5. 5. 5. 5. 5. 6. 6. 5. 6. 5. 5. 5. 6.\n",
      "  6. 5. 6. 6. 5. 5. 5. 5. 6. 6. 6. 5. 6. 5. 5. 6. 6. 6. 5. 5. 6. 6. 6. 6.\n",
      "  5. 5. 5. 6. 5. 5. 5. 5. 6. 5. 6. 6. 5. 5. 5. 5. 6. 6. 5. 5. 6. 6. 6. 6.\n",
      "  5. 5. 5. 5. 6. 6. 6. 5. 5. 5. 6. 6. 5. 5. 5. 5. 5. 5. 5. 6. 5. 6. 5. 6.\n",
      "  5. 5. 6. 5. 5. 5. 6. 6. 6. 5. 6. 6. 5. 6. 6. 5. 6. 5. 6. 5. 6. 6. 6. 6.\n",
      "  5. 6. 5. 6. 5. 6. 6. 5. 5. 5. 5. 6. 6. 5. 6. 5. 6. 6. 5. 6. 5. 6. 6. 5.\n",
      "  5. 6. 6. 5. 5. 6. 6. 6. 5. 6. 5. 5. 6. 6. 5. 5. 5. 6. 5. 5. 5. 5. 5. 6.\n",
      "  6. 5. 6. 5. 5. 6. 5. 6. 6. 6. 6. 5. 5. 6. 6. 6. 5. 5. 6. 6. 5. 5. 6. 6.\n",
      "  6. 5. 6. 5. 6. 5. 5. 5. 6. 6. 6. 6. 6. 5. 5. 5. 5. 5. 6. 5. 5. 6. 6. 5.\n",
      "  5. 5. 5. 5. 5. 6. 6. 5. 5. 6. 5. 6. 5. 5. 5. 6. 5. 6. 5. 6. 5. 5. 5. 5.\n",
      "  5. 6. 5. 5. 5. 6. 5. 6. 6. 6. 5. 5. 6. 5. 6. 5. 6. 6. 6. 5. 5. 6. 5. 6.\n",
      "  5. 6. 6. 5. 5. 5. 5. 5. 5. 5. 5. 6. 5. 5. 6. 6. 5. 5. 5. 5. 5. 5. 5. 5.\n",
      "  6. 6. 5. 5. 5. 6. 5. 6. 6. 5. 6. 5. 6. 5. 6. 5. 6. 6. 6. 6. 6. 5. 6. 5.\n",
      "  5. 6. 6. 5. 6. 6. 5. 5. 6. 6. 5. 6. 6. 5. 5. 5. 5. 6. 6. 6. 5. 6. 6. 5.\n",
      "  5. 6. 6. 6. 6. 6. 6. 6. 5. 6. 5. 5. 5. 6. 5. 5. 6. 5. 5. 5. 6. 6. 6. 6.\n",
      "  6. 5. 6. 6. 6. 6. 5. 6. 6. 6. 5. 5. 5. 5. 5. 6. 5. 5. 5. 6. 6. 6. 6. 6.\n",
      "  6. 6. 5. 5. 6. 5. 5. 6. 6. 5. 5. 5. 6. 5. 6. 5. 5. 6. 5. 5. 6. 6. 6. 5.\n",
      "  6. 6. 5. 6. 6. 5. 5. 6. 6. 5. 6. 5. 6. 6. 5. 6. 6. 5. 6. 6. 6. 6. 6. 5.\n",
      "  6. 6. 6. 6. 5. 5. 6. 5. 6. 6. 5. 6. 6. 5. 5. 6. 5. 6. 6. 6. 5. 6. 5. 6.\n",
      "  6. 5. 5. 5. 6. 6. 6. 5. 5. 6. 5. 6. 5. 5. 6. 5. 6. 6. 5. 6. 5. 6. 6. 5.\n",
      "  6. 6. 5. 6. 5. 5. 6. 6. 6. 6. 5. 5. 6. 5. 6. 5. 6. 5. 6. 6. 5. 6. 5. 6.\n",
      "  6. 5. 5. 6. 5. 6. 6. 5. 5. 5. 6. 6. 6. 5. 5. 6. 6. 5. 6. 5. 5. 5. 5. 5.\n",
      "  5. 6. 6. 6. 5. 6. 6. 6. 5. 5. 5. 6. 6. 6. 6. 6. 6. 6. 6. 5. 6. 5. 5. 6.\n",
      "  5. 6. 5. 6. 6. 6. 6. 5. 5. 6. 6. 6. 5. 6. 6. 5.]]\n",
      "accuracy %:  74.54545454545455\n"
     ]
    },
    {
     "data": {
      "image/png": "[encoded data removed]",
      "text/plain": [
       "<Figure size 432x288 with 1 Axes>"
      ]
     },
     "metadata": {
      "needs_background": "light"
     },
     "output_type": "display_data"
    }
   ],
   "source": [
    "k=30\n",
    "kPrime=10\n",
    "\n",
    "accuracy_i = np.zeros(k)\n",
    "\n",
    "for i in range(k):\n",
    "    accuracy_ki = np.zeros(kPrime)\n",
    "    \n",
    "    for j in range(kPrime):\n",
    "        trainData_ki = np.delete(trainData,np.arange(j*100,(j+1)*100),0)\n",
    "        trainLabels_ki = np.delete(trainLabels,np.arange(j*100,(j+1)*100),0)\n",
    "        \n",
    "        h_ki = knn(i+1, trainData_ki, trainLabels_ki, trainData_ki)\n",
    "        \n",
    "        validData_ki = trainData[j*100:(j+1)*100]\n",
    "        validLabels_ki = trainLabels[j*100:(j+1)*100]\n",
    "        \n",
    "        accuracy_ki[j] = test (i+1, trainData_ki, h_ki, validData_ki, validLabels_ki)\n",
    "        \n",
    "    accuracy_i [i] = np.average(accuracy_ki)\n",
    "\n",
    "plt.plot(accuracy_i)\n",
    "plt.xlabel('K')\n",
    "plt.ylabel('Accuracy (%)');\n",
    "\n",
    "kStar = np.argmax(accuracy_i)+1\n",
    "\n",
    "h = knn(kStar, trainData, trainLabels, trainData)\n",
    "accuracy = test (kStar, trainData, h, testData, testLabels)\n",
    "\n",
    "print(\"k*: \", kStar)\n",
    "print(\"h: \", np.transpose(h))\n",
    "print(\"accuracy %: \", accuracy)\n"
   ]
  },
  {
   "cell_type": "markdown",
   "metadata": {},
   "source": [
    "### Assignment #1: Question 2"
   ]
  },
  {
   "cell_type": "code",
   "execution_count": 6,
   "metadata": {
    "ExecuteTime": {
     "end_time": "2019-05-30T21:09:16.487965Z",
     "start_time": "2019-05-30T21:09:16.336308Z"
    }
   },
   "outputs": [],
   "source": [
    "testInput = pd.read_csv(\"regression-dataset/testInput.csv\",sep=',',header=None).values\n",
    "\n",
    "testTarget = pd.read_csv(\"regression-dataset/testTarget.csv\",sep=',',header=None).values\n",
    "\n",
    "trainInput = np.zeros([200,2])\n",
    "trainTarget = np.zeros([200,1])\n",
    "\n",
    "trainInput[0:20] = pd.read_csv(\"regression-dataset/trainInput1.csv\",sep=',',header=None).values\n",
    "trainInput[20:40] = pd.read_csv(\"regression-dataset/trainInput2.csv\",sep=',',header=None).values\n",
    "trainInput[40:60] = pd.read_csv(\"regression-dataset/trainInput3.csv\",sep=',',header=None).values\n",
    "trainInput[60:80] = pd.read_csv(\"regression-dataset/trainInput4.csv\",sep=',',header=None).values\n",
    "trainInput[80:100] = pd.read_csv(\"regression-dataset/trainInput5.csv\",sep=',',header=None).values\n",
    "trainInput[100:120] = pd.read_csv(\"regression-dataset/trainInput6.csv\",sep=',',header=None).values\n",
    "trainInput[120:140] = pd.read_csv(\"regression-dataset/trainInput7.csv\",sep=',',header=None).values\n",
    "trainInput[140:160] = pd.read_csv(\"regression-dataset/trainInput8.csv\",sep=',',header=None).values\n",
    "trainInput[160:180] = pd.read_csv(\"regression-dataset/trainInput9.csv\",sep=',',header=None).values\n",
    "trainInput[180:200] = pd.read_csv(\"regression-dataset/trainInput10.csv\",sep=',',header=None).values\n",
    "\n",
    "trainTarget[0:20] = pd.read_csv(\"regression-dataset/trainTarget1.csv\",sep=',',header=None).values\n",
    "trainTarget[20:40] = pd.read_csv(\"regression-dataset/trainTarget2.csv\",sep=',',header=None).values\n",
    "trainTarget[40:60] = pd.read_csv(\"regression-dataset/trainTarget3.csv\",sep=',',header=None).values\n",
    "trainTarget[60:80] = pd.read_csv(\"regression-dataset/trainTarget4.csv\",sep=',',header=None).values\n",
    "trainTarget[80:100] = pd.read_csv(\"regression-dataset/trainTarget5.csv\",sep=',',header=None).values\n",
    "trainTarget[100:120] = pd.read_csv(\"regression-dataset/trainTarget6.csv\",sep=',',header=None).values\n",
    "trainTarget[120:140] = pd.read_csv(\"regression-dataset/trainTarget7.csv\",sep=',',header=None).values\n",
    "trainTarget[140:160] = pd.read_csv(\"regression-dataset/trainTarget8.csv\",sep=',',header=None).values\n",
    "trainTarget[160:180] = pd.read_csv(\"regression-dataset/trainTarget9.csv\",sep=',',header=None).values\n",
    "trainTarget[180:200] = pd.read_csv(\"regression-dataset/trainTarget10.csv\",sep=',',header=None).values\n"
   ]
  },
  {
   "cell_type": "code",
   "execution_count": 7,
   "metadata": {
    "ExecuteTime": {
     "end_time": "2019-05-30T21:09:19.940997Z",
     "start_time": "2019-05-30T21:09:19.031540Z"
    },
    "scrolled": false
   },
   "outputs": [
    {
     "name": "stdout",
     "output_type": "stream",
     "text": [
      "min error @ landa= 2.8\n"
     ]
    },
    {
     "data": {
      "image/png": "[encoded data removed]",
      "text/plain": [
       "<Figure size 432x288 with 1 Axes>"
      ]
     },
     "metadata": {
      "needs_background": "light"
     },
     "output_type": "display_data"
    }
   ],
   "source": [
    "def rmse(predictions, targets):\n",
    "    return np.sqrt(((predictions - targets) ** 2).mean())\n",
    "\n",
    "kPrime=10\n",
    "trainInputBar=np.append(np.ones([len(trainInput),1]), trainInput, axis=1)\n",
    "\n",
    "error = np.zeros(40)\n",
    "\n",
    "landa=np.around(np.arange(0, 4, 0.1),1)\n",
    "\n",
    "for i in range(40):\n",
    "    \n",
    "    landa_i = landa[i]\n",
    "    error_i = np.zeros(kPrime)  \n",
    "    \n",
    "    for j in range(kPrime):\n",
    "        trainInputBar_j = np.delete(trainInputBar,np.arange(j*20,(j+1)*20),0)\n",
    "        trainTarget_j = np.delete(trainTarget,np.arange(j*20,(j+1)*20),0)\n",
    "        \n",
    "        A=np.zeros([trainInputBar_j.shape[1],trainInputBar_j.shape[1]])\n",
    "        \n",
    "        #forming A Matrix\n",
    "        for k in range(len(trainInputBar_j)):\n",
    "            A += np.dot(np.array([trainInputBar_j[k]]).T, np.array([trainInputBar_j[k]]))\n",
    "        \n",
    "        #forming b Matrix\n",
    "        b=np.zeros([trainInputBar_j.shape[1], 1])\n",
    "        \n",
    "        for l in range(len(trainTarget_j)):\n",
    "            b += trainTarget_j[l] * np.array([trainInputBar_j[l]]).T\n",
    "        \n",
    "        w_j = np.dot(np.linalg.inv(A + landa_i/2*np.identity(trainInputBar_j.shape[1])), b)\n",
    "        \n",
    "        yHat_j = np.dot(w_j.T, trainInputBar[j*20:(j+1)*20].T) \n",
    "        \n",
    "        error_i[j] = rmse(yHat_j, trainTarget[j*20:(j+1)*20].T)\n",
    "    \n",
    "    error [i] = np.average(error_i)\n",
    "    \n",
    "plt.plot(landa, error)\n",
    "plt.xlabel('Landa')\n",
    "plt.ylabel('Error (RMSE)');\n",
    "\n",
    "print(\"min error @ landa=\", landa[np.argmin(error)])"
   ]
  },
  {
   "cell_type": "code",
   "execution_count": 59,
   "metadata": {},
   "outputs": [
    {
     "name": "stdout",
     "output_type": "stream",
     "text": [
      "test data error @ minimum landa= 1.1681018713685811\n"
     ]
    }
   ],
   "source": [
    "landaMin=landa[np.argmin(error)]\n",
    "\n",
    "testInputBar=np.append(np.ones([len(testInput),1]), testInput, axis=1)\n",
    "\n",
    "A=np.zeros([testInputBar.shape[1],testInputBar.shape[1]])\n",
    "        \n",
    "#forming A Matrix\n",
    "for i in range(len(testInputBar)):\n",
    "    A += np.dot(np.array([testInputBar[i]]).T, np.array([testInputBar[i]]))\n",
    "        \n",
    "#forming b Matrix\n",
    "b=np.zeros([testInputBar.shape[1], 1])\n",
    "        \n",
    "for j in range(len(testTarget)):\n",
    "    b += testTarget[j] * np.array([testInputBar[j]]).T\n",
    "        \n",
    "w = np.dot(np.linalg.inv(A + landaMin/2*np.identity(testInputBar.shape[1])), b)\n",
    "        \n",
    "yHat = np.dot(w.T, testInputBar.T) \n",
    "        \n",
    "error = rmse(yHat, testTarget.T)\n",
    "\n",
    "print(\"test data RMSE @ minimum landa (%)=\", error)"
   ]
  },
  {
   "cell_type": "markdown",
   "metadata": {},
   "source": [
    "### Assignment #1: Question 3.a\n",
    "\\begin{equation*}\n",
    "L (w,b)=\\sum_{n=1}^{m}{r_n\\left(y_n-wx_n+b\\right)^2} \\\\\n",
    "\\frac{\\partial L}{\\partial b}=\\sum_{n=1}^{m}2r_n\\left(y_n-wx_n+b\\right)=0 \\\\\n",
    "Eq.\\left(1\\right):-b\\sum r_n+w\\sum{r_nx_n}=\\sum{r_ny_n} \\\\\n",
    "\\frac{\\partial L}{\\partial w}=\\sum_{n=1}^{m}{-2r_n}x_n\\left(y_n-wx_n+b\\right)=0 \\\\\n",
    "Eq.\\left(2\\right):-b\\sum{r_nx_n}+w\\sum{r_nx_n^2}=\\sum{r_nx_ny_n} \\\\\n",
    "\\end{equation*}\n",
    "        \n",
    "Combining Eq.1 & Eq.2 we have; \n",
    "\\begin{equation*}\n",
    "\\left[\\begin{matrix}-\\sum_{n=1}^{m}r_n&\\sum_{n=1}^{m}{r_nx_n}\\\\-\\sum_{n=1}^{m}{r_nx_n}&\\sum_{n=1}^{m}{r_nx_n^2}\\\\\\end{matrix}\\right]\\left(\\begin{matrix}b\\\\w\\\\\\end{matrix}\\right)=\\left[\\begin{matrix}\\sum_{n=1}^{m}{r_ny_n}\\\\\\sum_{n=1}^{m}{r_nx_ny_n}\\\\\\end{matrix}\\right]\\\\\n",
    "\\end{equation*}\n",
    "\n",
    "We can write above equation in the following shorthand form;\n",
    "\\begin{equation*}\n",
    "A\\underline{w}=\\underline{b}\\\\\n",
    "\\end{equation*}\n",
    "\n",
    "where; $$ \\ A=\\left[\\begin{matrix}-\\sum_{n=1}^{m}r_n&\\sum_{n=1}^{m}{r_nx_n}\\\\-\\sum_{n=1}^{m}{r_nx_n}&\\sum_{n=1}^{m}{r_nx_n^2}\\\\\\end{matrix}\\right];\\ \n",
    "\\underline{w}=\\left(\\begin{matrix}b\\\\w\\\\\\end{matrix}\\right);\\ \\ \n",
    "\\underline{b}=\\left[\\begin{matrix}\\sum_{n=1}^{m}{r_ny_n}\\\\\\sum_{n=1}^{m}{r_nx_ny_n}\\\\\\end{matrix}\\right]\n",
    "$$"
   ]
  },
  {
   "cell_type": "markdown",
   "metadata": {},
   "source": [
    "### Assignment #1: Question 3.b\n",
    "Given; \n",
    "\\begin{equation*}\n",
    "Pr\\left(\\textbf{y}\\middle|\\textbf{X},w,b,\\sigma_n^2\\right)=\\prod_{n=1}^{N}\\frac{1}{\\sqrt{2\\pi}\\sigma_n}e^{-\\frac{\\left(y_n-wx_n+b\\right)^2}{2\\sigma_n^2}}\\\\\n",
    "\\end{equation*}\n",
    "the best $w$ and $b$ maximizing the likelihood above can be found solving the following optimization problem. \n",
    "\n",
    "\\begin{equation*}\n",
    "w^\\ast,\\ b^\\ast\\ \\ ={argmax}_{w,b}Pr\\left(\\textbf{y}\\middle|\\textbf{X},w,b,\\sigma_n^2\\right)\\\\\n",
    "\\ \\ \\ \\ \\ \\ \\ \\ \\ \\ \\ \\ \\ \\ ={argmax}_{w,b}\\prod_{n=1}^{N}\\frac{1}{\\sigma_n}e^{-\\frac{\\left(y_n-wx_n+b\\right)^2}{2\\sigma_n^2}}\\\\\n",
    "\\ \\ \\ \\ \\ \\ \\ \\ \\ \\ \\ \\ \\ \\ \\ ={argmax}_{w,b}\\sum_{n}{log(\\frac{1}{\\sigma_n}e^{-\\frac{\\left(y_n-wx_n+b\\right)^2}{2\\sigma_n^2}})}\\\\\n",
    "\\ \\ \\ \\ \\ \\ \\ \\ \\ \\ \\ \\ \\ ={argmax}_{w,b}(\\ \\sum_{n}{log(\\frac{1}{\\sigma_n})}+\\sum_{n}{log(e^{-\\frac{\\left(y_n-wx_n+b\\right)^2}{2\\sigma_n^2}})})\\\\\n",
    "\\ \\ \\ \\ \\ \\ \\ \\ \\ \\ \\ \\ \\ ={argmax}_{w,b}\\sum_{n}{-\\frac{\\left(y_n-wx_n+b\\right)^2}{\\sigma_n^2}}\\\\\n",
    "\\ \\ \\ \\ \\ \\ \\ \\ \\ \\ \\ \\ \\ ={argmin}_{w,b}\\sum_{n}{r}_n\\left(y_n-wx_n+b\\right)^2\\\\\n",
    "\\end{equation*}\n",
    "\n",
    "where; $ r_n=\\frac{1}{\\sigma_n^2} $\n",
    "\n",
    "We can go through the equation in reverse order to conclude that $L(w,b)$ is equivalent to the negative log-likelihood for linear regression where\n",
    "each data point may have a different Gaussian measurement noise.\n"
   ]
  },
  {
   "cell_type": "code",
   "execution_count": 1,
   "metadata": {
    "ExecuteTime": {
     "end_time": "2019-06-20T23:58:02.864325Z",
     "start_time": "2019-06-20T23:58:02.667971Z"
    }
   },
   "outputs": [],
   "source": [
    "import numpy as np"
   ]
  },
  {
   "cell_type": "code",
   "execution_count": 4,
   "metadata": {
    "ExecuteTime": {
     "end_time": "2019-06-20T23:58:27.442049Z",
     "start_time": "2019-06-20T23:58:27.432877Z"
    }
   },
   "outputs": [
    {
     "data": {
      "text/plain": [
       "array([ 1,  2,  3,  4,  5,  6,  7,  8,  9, 10])"
      ]
     },
     "execution_count": 4,
     "metadata": {},
     "output_type": "execute_result"
    }
   ],
   "source": [
    "np.arange(1,11)"
   ]
  },
  {
   "cell_type": "code",
   "execution_count": 6,
   "metadata": {
    "ExecuteTime": {
     "end_time": "2019-06-21T00:38:25.299882Z",
     "start_time": "2019-06-21T00:38:25.295884Z"
    }
   },
   "outputs": [],
   "source": [
    "A=np.array([1,2,3])"
   ]
  },
  {
   "cell_type": "code",
   "execution_count": 7,
   "metadata": {
    "ExecuteTime": {
     "end_time": "2019-06-21T00:38:31.122740Z",
     "start_time": "2019-06-21T00:38:31.113787Z"
    }
   },
   "outputs": [
    {
     "data": {
      "text/plain": [
       "2.0"
      ]
     },
     "execution_count": 7,
     "metadata": {},
     "output_type": "execute_result"
    }
   ],
   "source": [
    "A.mean()"
   ]
  },
  {
   "cell_type": "code",
   "execution_count": null,
   "metadata": {},
   "outputs": [],
   "source": []
  }
 ],
 "metadata": {
  "kernelspec": {
   "display_name": "Python 3",
   "language": "python",
   "name": "python3"
  },
  "language_info": {
   "codemirror_mode": {
    "name": "ipython",
    "version": 3
   },
   "file_extension": ".py",
   "mimetype": "text/x-python",
   "name": "python",
   "nbconvert_exporter": "python",
   "pygments_lexer": "ipython3",
   "version": "3.7.3"
  }
 },
 "nbformat": 4,
 "nbformat_minor": 2
}
