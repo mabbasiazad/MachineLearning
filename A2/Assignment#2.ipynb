{
 "cells": [
  {
   "cell_type": "markdown",
   "metadata": {
    "ExecuteTime": {
     "end_time": "2019-06-08T20:40:26.660138Z",
     "start_time": "2019-06-08T20:40:21.304497Z"
    }
   },
   "source": [
    "#### Machine Learning/ Assignment #2\n",
    "#### Mehdi Abbasi-Azadgoleh (UW#: 20335400)"
   ]
  },
  {
   "cell_type": "code",
   "execution_count": 15,
   "metadata": {
    "ExecuteTime": {
     "end_time": "2019-06-09T22:11:07.254774Z",
     "start_time": "2019-06-09T22:11:07.240739Z"
    }
   },
   "outputs": [],
   "source": [
    "#Import the packages\n",
    "\n",
    "import numpy as np\n",
    "import pandas as pd\n",
    "from collections import Counter\n",
    "import random\n",
    "import statistics as stat\n",
    "from scipy.spatial.distance import cdist\n",
    "import matplotlib.pyplot as plt"
   ]
  },
  {
   "cell_type": "markdown",
   "metadata": {},
   "source": [
    "#### Importing Data"
   ]
  },
  {
   "cell_type": "code",
   "execution_count": 16,
   "metadata": {
    "ExecuteTime": {
     "end_time": "2019-06-09T22:11:09.818210Z",
     "start_time": "2019-06-09T22:11:09.624208Z"
    }
   },
   "outputs": [],
   "source": [
    "#importing data from Excel as a numpy array\n",
    "testData = pd.read_csv(\"knn-dataset/testData.csv\",sep=',',header=None).values\n",
    "\n",
    "testLabels = pd.read_csv(\"knn-dataset/testLabels.csv\",sep=',',header=None).values\n",
    "\n",
    "trainData = np.zeros([1000,64])\n",
    "trainLabels = np.zeros([1000,1])\n",
    "\n",
    "trainData[0:100] = pd.read_csv(\"knn-dataset/trainData1.csv\",sep=',',header=None).values\n",
    "trainData[100:200] = pd.read_csv(\"knn-dataset/trainData2.csv\",sep=',',header=None).values\n",
    "trainData[200:300] = pd.read_csv(\"knn-dataset/trainData3.csv\",sep=',',header=None).values\n",
    "trainData[300:400] = pd.read_csv(\"knn-dataset/trainData4.csv\",sep=',',header=None).values\n",
    "trainData[400:500] = pd.read_csv(\"knn-dataset/trainData5.csv\",sep=',',header=None).values\n",
    "trainData[500:600] = pd.read_csv(\"knn-dataset/trainData6.csv\",sep=',',header=None).values\n",
    "trainData[600:700] = pd.read_csv(\"knn-dataset/trainData7.csv\",sep=',',header=None).values\n",
    "trainData[700:800] = pd.read_csv(\"knn-dataset/trainData8.csv\",sep=',',header=None).values\n",
    "trainData[800:900] = pd.read_csv(\"knn-dataset/trainData9.csv\",sep=',',header=None).values\n",
    "trainData[900:1000] = pd.read_csv(\"knn-dataset/trainData10.csv\",sep=',',header=None).values\n",
    "\n",
    "trainLabels[0:100] = pd.read_csv(\"knn-dataset/trainLabels1.csv\",sep=',',header=None).values\n",
    "trainLabels[100:200] = pd.read_csv(\"knn-dataset/trainLabels2.csv\",sep=',',header=None).values\n",
    "trainLabels[200:300] = pd.read_csv(\"knn-dataset/trainLabels3.csv\",sep=',',header=None).values\n",
    "trainLabels[300:400] = pd.read_csv(\"knn-dataset/trainLabels4.csv\",sep=',',header=None).values\n",
    "trainLabels[400:500] = pd.read_csv(\"knn-dataset/trainLabels5.csv\",sep=',',header=None).values\n",
    "trainLabels[500:600] = pd.read_csv(\"knn-dataset/trainLabels6.csv\",sep=',',header=None).values\n",
    "trainLabels[600:700] = pd.read_csv(\"knn-dataset/trainLabels7.csv\",sep=',',header=None).values\n",
    "trainLabels[700:800] = pd.read_csv(\"knn-dataset/trainLabels8.csv\",sep=',',header=None).values\n",
    "trainLabels[800:900] = pd.read_csv(\"knn-dataset/trainLabels9.csv\",sep=',',header=None).values\n",
    "trainLabels[900:1000] = pd.read_csv(\"knn-dataset/trainLabels10.csv\",sep=',',header=None).values"
   ]
  },
  {
   "cell_type": "markdown",
   "metadata": {},
   "source": [
    "#### Data Processing"
   ]
  },
  {
   "cell_type": "code",
   "execution_count": 17,
   "metadata": {
    "ExecuteTime": {
     "end_time": "2019-06-09T22:11:11.681195Z",
     "start_time": "2019-06-09T22:11:11.669140Z"
    }
   },
   "outputs": [],
   "source": [
    "#Changing the class labels from 5,6 to 0,1 (y={0,1})\n",
    "trainLabels = (trainLabels - 5)\n",
    "testLabels = (testLabels-5)"
   ]
  },
  {
   "cell_type": "markdown",
   "metadata": {},
   "source": [
    "#### Q1.a) Mixture of Gaussians"
   ]
  },
  {
   "cell_type": "markdown",
   "metadata": {},
   "source": [
    "> Learning the parameters"
   ]
  },
  {
   "cell_type": "code",
   "execution_count": 18,
   "metadata": {
    "ExecuteTime": {
     "end_time": "2019-06-09T22:11:14.682198Z",
     "start_time": "2019-06-09T22:11:14.574493Z"
    }
   },
   "outputs": [
    {
     "name": "stdout",
     "output_type": "stream",
     "text": [
      "Diagonal Elements of Sigma Matrix:\n",
      " [40.06966  39.82214  43.393942 42.766668 40.430838 42.431356 43.962156\n",
      " 35.76039  37.639996 39.744748 41.88718  42.250886 43.980198 40.399208\n",
      " 39.59391  37.22228  35.94983  40.826518 42.785502 46.726278 39.7868\n",
      " 38.79184  35.49763  36.49206  36.55942  40.446368 40.62147  46.540702\n",
      " 45.725294 43.487948 37.28763  36.988752 37.872256 42.13782  41.990942\n",
      " 44.39835  45.407326 45.28368  42.051222 32.90459  37.272616 39.713326\n",
      " 40.32731  44.527966 46.29971  43.68424  43.72803  35.242856 35.657142\n",
      " 40.4655   44.1844   44.524166 46.08703  44.612656 43.811694 38.729336\n",
      " 37.56372  37.560716 45.240582 42.59006  42.565548 43.998198 42.671948\n",
      " 40.080134]\n"
     ]
    }
   ],
   "source": [
    "#Computing Pi as the probability of C1 (the class with label 1) \n",
    "pi = sum(trainLabels) / len(trainLabels)\n",
    "Pr_C1 = pi\n",
    "Pr_C2 = 1 - pi\n",
    "\n",
    "#Computing average of PDF \n",
    "N1 = Counter(trainLabels.reshape(len(trainLabels)))[1]\n",
    "N2 = Counter(trainLabels.reshape(len(trainLabels)))[0]\n",
    "N = N1 + N2\n",
    "\n",
    "mu1 = np.zeros([trainData.shape[1],1])\n",
    "mu2 = np.zeros([trainData.shape[1],1])\n",
    "\n",
    "for i in range(len(trainLabels)):\n",
    "    mu1 += (trainLabels[i] * np.array([trainData[i]]).T) / N1\n",
    "    mu2 += ((1 - trainLabels[i]) * np.array([trainData[i]]).T) / N2\n",
    "\n",
    "# #Computing CapitalSigma\n",
    "S1 = np.zeros([trainData.shape[1], trainData.shape[1]])\n",
    "S2 = np.zeros([trainData.shape[1], trainData.shape[1]])\n",
    "\n",
    "for i in range(len(trainLabels)):\n",
    "    if (trainLabels[i] == 1):\n",
    "        S1 += np.dot(np.array([trainData[i]]).T - mu1, (np.array([trainData[i]]).T - mu1).T) / N1\n",
    "    else:\n",
    "        S2 += np.dot(np.array([trainData[i]]).T - mu2, (np.array([trainData[i]]).T - mu2).T) / N2\n",
    "\n",
    "sigma = N1 / N * S1 + N2 / N * S2\n",
    "print('Diagonal Elements of Sigma Matrix:\\n',sigma.diagonal())"
   ]
  },
  {
   "cell_type": "markdown",
   "metadata": {},
   "source": [
    "> Testing Mixture of Gaussians Algorithm with Test DataSet"
   ]
  },
  {
   "cell_type": "code",
   "execution_count": 19,
   "metadata": {
    "ExecuteTime": {
     "end_time": "2019-06-09T22:11:19.563356Z",
     "start_time": "2019-06-09T22:11:19.548721Z"
    }
   },
   "outputs": [],
   "source": [
    "def sigmoid(x):\n",
    "    return 1 / (1 + np.exp(-x))\n",
    "#======================================================"
   ]
  },
  {
   "cell_type": "code",
   "execution_count": 20,
   "metadata": {
    "ExecuteTime": {
     "end_time": "2019-06-09T22:11:20.453735Z",
     "start_time": "2019-06-09T22:11:20.404950Z"
    }
   },
   "outputs": [
    {
     "name": "stdout",
     "output_type": "stream",
     "text": [
      "Classification Accuracy % =  [89.09090909]\n"
     ]
    }
   ],
   "source": [
    "sigmaInverse = np.linalg.inv(sigma)\n",
    "w = np.dot(sigmaInverse, (mu1-mu2))\n",
    "w0 = -1/2 * np.dot(mu1.T, np.dot(sigmaInverse, mu1)) \\\n",
    "     + 1/2 * np.dot(mu2.T, np.dot(sigmaInverse, mu2)) \\\n",
    "     + np.log(Pr_C1 / Pr_C2)\n",
    "\n",
    "classifiedLabels = np.zeros([len(testData), 1])\n",
    "\n",
    "#Calculating the accuracy of classification\n",
    "for i in range(len(testData)):\n",
    "    if (sigmoid(np.dot(w.T, np.array([testData[i]]).T) + w0) > 0.5):\n",
    "        classifiedLabels[i] = 1\n",
    "    else:\n",
    "        classifiedLabels[i] = 0\n",
    "\n",
    "accuracy = (len(testData)-sum(np.abs(classifiedLabels - testLabels)))/len(testData)*100\n",
    "print (\"Classification Accuracy % = \", accuracy)"
   ]
  },
  {
   "cell_type": "markdown",
   "metadata": {},
   "source": [
    "#### Q1.b) Logestic Regresion"
   ]
  },
  {
   "cell_type": "code",
   "execution_count": 21,
   "metadata": {
    "ExecuteTime": {
     "end_time": "2019-06-09T22:11:24.031599Z",
     "start_time": "2019-06-09T22:11:24.014957Z"
    }
   },
   "outputs": [],
   "source": [
    "# Adding one to each data set \n",
    "trainDataBar = np.append(np.ones([len(trainData),1]), trainData, axis=1)\n",
    "testDataBar = np.append(np.ones([len(testData),1]), testData, axis=1)\n",
    "\n",
    "#trainDataBar = (trainDataBar - np.min(trainDataBar))/(np.max(trainDataBar) - np.min(trainDataBar))\n",
    "#testDataBar = (testDataBar - np.min(testDataBar))/(np.max(testDataBar) - np.min(testDataBar))"
   ]
  },
  {
   "cell_type": "code",
   "execution_count": 22,
   "metadata": {
    "ExecuteTime": {
     "end_time": "2019-06-09T22:11:26.633063Z",
     "start_time": "2019-06-09T22:11:26.603698Z"
    }
   },
   "outputs": [],
   "source": [
    "def gradient(w, Xbar, labels):\n",
    "    grad = np.zeros(w.shape[0]) \n",
    "    \n",
    "    for n in range(Xbar.shape[0]):\n",
    "        grad += (sigmoid(w.dot(Xbar[n,:]))- labels[n]) * Xbar[n,:] \n",
    "    \n",
    "    return grad\n",
    "#===============================================\n",
    "\n",
    "def Hessian(w, Xbar):\n",
    "    R = np.zeros([Xbar.shape[0], Xbar.shape[0]])\n",
    "\n",
    "    for i in range(Xbar.shape[0]):\n",
    "        sigma_i = sigmoid(w.dot(Xbar[i,:]))  \n",
    "        R[i,i] = sigma_i * (1 - sigma_i)\n",
    "    \n",
    "    H =  Xbar.T.dot(R).dot(Xbar) \n",
    "    \n",
    "    return H\n",
    "#================================================="
   ]
  },
  {
   "cell_type": "code",
   "execution_count": 9,
   "metadata": {
    "ExecuteTime": {
     "end_time": "2019-06-09T22:10:15.721384Z",
     "start_time": "2019-06-09T21:53:54.071820Z"
    },
    "scrolled": false
   },
   "outputs": [
    {
     "name": "stdout",
     "output_type": "stream",
     "text": [
      "Max Accuracy % =  88.7\n",
      "Max accuracy happens @ lamda= 6380\n"
     ]
    },
    {
     "data": {
      "image/png": "[encoded data removed]",
      "text/plain": [
       "<Figure size 432x288 with 1 Axes>"
      ]
     },
     "metadata": {
      "needs_background": "light"
     },
     "output_type": "display_data"
    }
   ],
   "source": [
    "kfolds=10\n",
    "\n",
    "#lamda= [np.round(i*0.1,1) for i in range(1,400,1)]  #(start, stop, step)\n",
    "lamda= [i for i in range(5000,10000,10)]  #(start, stop, step)\n",
    "\n",
    "accuracy= np.zeros(len(lamda))\n",
    "\n",
    "for i in range(len(lamda)):\n",
    "    accuracyCross = np.zeros(kfolds)\n",
    "    \n",
    "    for j in range(kfolds):\n",
    "        \n",
    "        trainDataBar_j = np.delete(trainDataBar,np.arange(j*100,(j+1)*100),0)\n",
    "        trainLabels_j = np.delete(trainLabels,np.arange(j*100,(j+1)*100),0) \n",
    "        \n",
    "        validateDataBar_j = trainDataBar[j*100:(j+1)*100]\n",
    "        validateLabels_j = trainLabels[j*100:(j+1)*100]\n",
    "        \n",
    "        w = 0.001*np.random.rand(trainDataBar.shape[1])\n",
    "        #w = np.append(w0, w) \n",
    "        w_old = np.zeros(w.shape)\n",
    "\n",
    "        #for k in range(10):\n",
    "        #thr = 1000\n",
    "        #idx = 0\n",
    "        while(np.linalg.norm(w - w_old)> 1e-15):\n",
    "            #idx += 1\n",
    "            w_old = w\n",
    "            g = gradient (w_old, trainDataBar_j, trainLabels_j) + lamda[i] * w_old\n",
    "            H = Hessian (w_old, trainDataBar_j) + lamda [i] * np.identity(len(w_old))\n",
    "            #w = w_old - 0.01*np.linalg.inv(H).dot(g)\n",
    "            w = w_old - np.linalg.inv(H).dot(g)\n",
    "            #print(np.linalg.norm(w - w_old))\n",
    "    #        if idx > thr:\n",
    "     #           break\n",
    "                \n",
    "        classifiedLabels_j = np.zeros(validateLabels_j.shape[0])\n",
    "        \n",
    "        for l in range(validateDataBar_j.shape[0]):\n",
    "            \n",
    "            if w.dot(validateDataBar_j[l,:]) >= 0:\n",
    "                classifiedLabels_j[l] = 1\n",
    "                \n",
    "            else:\n",
    "                classifiedLabels_j[l] = 0\n",
    "        \n",
    "        accuracyCross[j] = ((validateDataBar_j.shape[0] \\\n",
    "                           - sum(np.abs(classifiedLabels_j - validateLabels_j[:,0]))) \\\n",
    "                           /validateDataBar_j.shape[0])*100\n",
    "\n",
    "    accuracy[i] = np.average(accuracyCross)\n",
    "    #print(\"lamda \"+str(lamda[i])+\" is calculated!\")\n",
    "plt.plot(lamda, accuracy)\n",
    "plt.xlabel('Landa')\n",
    "plt.ylabel('Accuracy %');\n",
    "\n",
    "print (\"Max Accuracy % = \", max(accuracy))\n",
    "print(\"Max accuracy happens @ lamda=\", lamda[np.argmax(accuracy)])"
   ]
  },
  {
   "cell_type": "markdown",
   "metadata": {},
   "source": [
    "> Testing Logestic Regression Algorithm with Test DataSet"
   ]
  },
  {
   "cell_type": "code",
   "execution_count": 25,
   "metadata": {
    "ExecuteTime": {
     "end_time": "2019-06-09T22:12:34.179205Z",
     "start_time": "2019-06-09T22:12:33.881871Z"
    }
   },
   "outputs": [
    {
     "name": "stdout",
     "output_type": "stream",
     "text": [
      "Classification Accuracy % =  [89.09090909]\n"
     ]
    }
   ],
   "source": [
    "lamda = 6380\n",
    "\n",
    "w = 0.001*np.random.rand(trainDataBar.shape[1])\n",
    "w_old = np.zeros(w.shape)\n",
    "\n",
    "#idx = 0\n",
    "while(np.linalg.norm(w - w_old)> 1e-14):\n",
    "    #idx += 1\n",
    "    w_old = w\n",
    "    g = gradient (w_old, trainDataBar, trainLabels) + lamda * w_old\n",
    "    H = Hessian (w_old, trainDataBar) + lamda * np.identity(len(w))\n",
    "    w = w_old - np.linalg.inv(H).dot(g)\n",
    "    #print('Iteration Index:', idx)\n",
    "\n",
    "classifiedLabels = np.zeros([len(testData), 1])\n",
    "\n",
    "#Calculating the accuracy of classification\n",
    "for i in range(testDataBar.shape[0]):\n",
    "    if w.dot(testDataBar[i,:]) >= 0:\n",
    "        classifiedLabels[i] = 1\n",
    "    else:\n",
    "        classifiedLabels[i] = 0\n",
    "\n",
    "accuracy = (len(testData)-sum(np.abs(classifiedLabels - testLabels)))/len(testData)*100\n",
    "print (\"Classification Accuracy % = \", accuracy)"
   ]
  },
  {
   "cell_type": "markdown",
   "metadata": {},
   "source": [
    "#### Result Discusion"
   ]
  },
  {
   "cell_type": "markdown",
   "metadata": {
    "ExecuteTime": {
     "end_time": "2019-06-07T16:01:12.107126Z",
     "start_time": "2019-06-07T16:01:12.091648Z"
    }
   },
   "source": [
    "+ In Mixture of Gaussians we need to calculate $\\pi$, $\\mu$, and $\\boldsymbol{\\Sigma}$ for each\n",
    "class, i.e., $6$ parameters for two classes, and then compute $2$ parameters; $\\boldsymbol{w}$ \n",
    "and $w_0$ coresponding to the linear classifier. So in Mixture of Gaussians the calssifier weights\n",
    "are derived indirectly and total number of parameters is equal to $8$.  \n",
    "\n",
    "    However, in Logestic Regression the classifier weight vector $w$ is calculated directly\n",
    "    from Data Set. In this approach there is not a closed-form solution for weight vector, \n",
    "    so we have to use iterative method such as Newton's. Total number of parameter is $1$ \n",
    "    wich is derived after $k$ iterations. In this example we set $k$=10. Nevertheless, Newton's \n",
    "    method convergence rate is so high we could find the weight with fewer number of iterations when \n",
    "    we have sense about the order of weight vector elements, which is 0.01 for this example. \n",
    "    Given this sense, I have that we could find the $w$ vector after total number of $6$ iterations. \n",
    "\n",
    "    In terms of accuracy, both algoriths are the same. Both algorithms resulted in 89% accuracy. \n",
    "\n",
    "    The cost of Computation is higer for Logestic Regression"
   ]
  },
  {
   "cell_type": "markdown",
   "metadata": {},
   "source": [
    "+ When the data set is linearly seperable (the same as our current data) it seems that \n",
    "linear algorithms performs better than nonlinear ones. In this data set Mixture of Gaussians\n",
    "and Linear Regression classified the test data with ~89% accuracy while the nonlinear classifier\n",
    "KNN had the test accuracy of ~76%. However if the data points are nonlinearly dixtributed \n",
    "then it is speculated that KNN will perform better. "
   ]
  },
  {
   "cell_type": "markdown",
   "metadata": {
    "ExecuteTime": {
     "end_time": "2019-06-08T20:37:18.557692Z",
     "start_time": "2019-06-08T20:37:18.554696Z"
    }
   },
   "source": [
    "#### Q2.a) Linear Seperability of Boolean Functions "
   ]
  },
  {
   "cell_type": "markdown",
   "metadata": {
    "ExecuteTime": {
     "end_time": "2019-06-08T21:20:14.811920Z",
     "start_time": "2019-06-08T21:20:14.798006Z"
    }
   },
   "source": [
    "+ $\\bf{and}$\n",
    "\n",
    "Yes, it is linearly seperable. $w=[0.5, 0.5]$; $w_0=-0.7$\n",
    "\n",
    "+ $\\bf{or}$\n",
    "\n",
    "Yes, it is linearly seperable. $w=[1, 1]$; $w_0=-0.1$ \n",
    "\n",
    "+ $\\bf{exclusive-or}$\n",
    "\n",
    "No, it is not linearly seperable. $\\phi({\\bf{x}})=[x_1, x_2, x_1x_2]$; $w=[1, 1, -3]$; $w_0=-0.5$  \n",
    "\n",
    "+ $\\bf{iff (XNOR)}$\n",
    "\n",
    "No, it is not linearly seperable. $\\phi({\\bf{x}})=[x_1, x_2, x_1x_2]$; $w=[-1, -1, 3]$; $w_0=0.5$\n"
   ]
  },
  {
   "cell_type": "markdown",
   "metadata": {},
   "source": [
    "#### Q2.b) Linear Seperability of Q.1 Training Set"
   ]
  },
  {
   "cell_type": "markdown",
   "metadata": {
    "ExecuteTime": {
     "end_time": "2019-06-09T16:46:40.158403Z",
     "start_time": "2019-06-09T16:46:40.151078Z"
    }
   },
   "source": [
    "> $\\bf {1^{st}Experiment}$: Using the linear regression algorithm developed in Q1."
   ]
  },
  {
   "cell_type": "code",
   "execution_count": 26,
   "metadata": {
    "ExecuteTime": {
     "end_time": "2019-06-09T22:13:15.220643Z",
     "start_time": "2019-06-09T22:13:14.790986Z"
    }
   },
   "outputs": [
    {
     "name": "stdout",
     "output_type": "stream",
     "text": [
      "Iteration Index: 1\n",
      "Iteration Index: 2\n",
      "Iteration Index: 3\n",
      "Iteration Index: 4\n",
      "Iteration Index: 5\n",
      "Iteration Index: 6\n",
      "Iteration Index: 7\n",
      "Iteration Index: 8\n",
      "Iteration Index: 9\n",
      "Iteration Index: 10\n",
      "Classification Accuracy % =  [89.1]\n"
     ]
    }
   ],
   "source": [
    "lamda = 25\n",
    "\n",
    "w = 0.001*np.random.rand(trainDataBar.shape[1])\n",
    "w_old = np.zeros(w.shape)\n",
    "\n",
    "idx = 0\n",
    "\n",
    "while(np.linalg.norm(w - w_old)> 1e-15):\n",
    "    idx += 1\n",
    "    w_old = w\n",
    "    g = gradient (w_old, trainDataBar, trainLabels) + lamda * w_old\n",
    "    H = Hessian (w_old, trainDataBar) + lamda * np.identity(len(w))\n",
    "    w = w_old - np.linalg.inv(H).dot(g)\n",
    "    print('Iteration Index:', idx)\n",
    "\n",
    "classifiedLabels = np.zeros([len(trainData), 1])\n",
    "\n",
    "#Calculating the accuracy of classification\n",
    "for i in range(trainDataBar.shape[0]):\n",
    "    if w.dot(trainDataBar[i,:]) >= 0:\n",
    "        classifiedLabels[i] = 1\n",
    "    else:\n",
    "        classifiedLabels[i] = 0\n",
    "\n",
    "accuracy = (len(trainData)-sum(np.abs(classifiedLabels - trainLabels)))/len(trainData)*100\n",
    "print (\"Classification Accuracy % = \", accuracy)"
   ]
  },
  {
   "cell_type": "markdown",
   "metadata": {},
   "source": [
    "No the training set in question 1 is not linearly seperable. Since the linear classifier\n",
    "could not classify the set with the accuracy of 100%."
   ]
  },
  {
   "cell_type": "markdown",
   "metadata": {
    "ExecuteTime": {
     "end_time": "2019-06-09T19:09:50.685168Z",
     "start_time": "2019-06-09T19:09:50.679610Z"
    }
   },
   "source": [
    "> $\\bf {2^{nd}Experiment}$: Threshold perceptron learning converges iff the data is linearly separable."
   ]
  },
  {
   "cell_type": "code",
   "execution_count": 12,
   "metadata": {
    "ExecuteTime": {
     "end_time": "2019-06-09T22:10:16.419921Z",
     "start_time": "2019-06-09T22:10:16.398397Z"
    }
   },
   "outputs": [],
   "source": [
    "#Changing the class labels from 1,0 to 1,-1 (y={1,-1})\n",
    "for i in range(trainLabels.shape[0]):\n",
    "    if trainLabels[i] == 0:\n",
    "            trainLabels[i] = -1\n",
    "\n",
    "for i in range(testLabels.shape[0]):\n",
    "    if testLabels[i] == 0:\n",
    "            testLabels[i] = -1"
   ]
  },
  {
   "cell_type": "code",
   "execution_count": 13,
   "metadata": {
    "ExecuteTime": {
     "end_time": "2019-06-09T22:10:16.440157Z",
     "start_time": "2019-06-09T22:10:16.424515Z"
    }
   },
   "outputs": [],
   "source": [
    "def calcAccuracy (w, dataSet, dataLabels):\n",
    "\n",
    "    classifiedLabels = np.zeros([len(dataSet), 1])\n",
    "\n",
    "    #Calculating the accuracy of classification\n",
    "    for i in range(dataSet.shape[0]):\n",
    "        if w.dot(dataSet[i,:]) >= 0:\n",
    "            classifiedLabels[i] = 1\n",
    "        else:\n",
    "            classifiedLabels[i] = -1\n",
    "\n",
    "    trueClassified = 0\n",
    "\n",
    "    for i in range(dataSet.shape[0]):\n",
    "        if np.array_equal(classifiedLabels[i],dataLabels[i]): \n",
    "            trueClassified += 1\n",
    "\n",
    "    accuracy = trueClassified/len(dataSet)*100\n",
    "\n",
    "    return accuracy"
   ]
  },
  {
   "cell_type": "code",
   "execution_count": 14,
   "metadata": {
    "ExecuteTime": {
     "end_time": "2019-06-09T22:10:18.373038Z",
     "start_time": "2019-06-09T22:10:16.442583Z"
    },
    "scrolled": false
   },
   "outputs": [
    {
     "name": "stdout",
     "output_type": "stream",
     "text": [
      "Train Data Classification Accuracy % =  83.89999999999999\n",
      "Test Data Classification Accuracy % =  84.54545454545455\n"
     ]
    },
    {
     "data": {
      "image/png": "[encoded data removed]",
      "text/plain": [
       "<Figure size 432x288 with 1 Axes>"
      ]
     },
     "metadata": {
      "needs_background": "light"
     },
     "output_type": "display_data"
    }
   ],
   "source": [
    "w = 0.01*np.random.rand(trainDataBar.shape[1])\n",
    "W=[]\n",
    "\n",
    "idx = 0\n",
    "thr = 100000\n",
    "\n",
    "while(idx < thr):\n",
    "\n",
    "    i = np.random.randint(0,trainData.shape[0])\n",
    "    #print (i)\n",
    "    if w.dot(trainDataBar[i]) > 0: \n",
    "        classifiedLabel = 1\n",
    "    else:\n",
    "        classifiedLabel = -1\n",
    "    \n",
    "    if trainLabels[i] != classifiedLabel:\n",
    "        w = w + trainLabels[i] * trainDataBar[i]\n",
    "        W.append(np.linalg.norm(w))\n",
    "    else:\n",
    "        idx += 1\n",
    "    \n",
    "#    print(idx)\n",
    "#     if idx > thr:\n",
    "#         break\n",
    "\n",
    "plt.plot (W)\n",
    "plt.xlabel('Iteration')\n",
    "plt.ylabel('|w|');\n",
    "\n",
    "\n",
    "print (\"Train Data Classification Accuracy % = \", calcAccuracy(w, trainDataBar, trainLabels))    \n",
    "print (\"Test Data Classification Accuracy % = \", calcAccuracy(w, testDataBar, testLabels))    \n",
    "    "
   ]
  },
  {
   "cell_type": "markdown",
   "metadata": {
    "ExecuteTime": {
     "end_time": "2019-06-09T19:29:32.598679Z",
     "start_time": "2019-06-09T19:29:32.593694Z"
    }
   },
   "source": [
    "$w$ does not converge to specific amout, so the data cannot be completely seperated \n",
    "by a single hyperplane. \n",
    "However, the linear perceptron algorithm can classify the test and train data with \n",
    "the accuracy in the order of 88%.   "
   ]
  },
  {
   "cell_type": "code",
   "execution_count": null,
   "metadata": {},
   "outputs": [],
   "source": []
  }
 ],
 "metadata": {
  "kernelspec": {
   "display_name": "Python 3",
   "language": "python",
   "name": "python3"
  },
  "language_info": {
   "codemirror_mode": {
    "name": "ipython",
    "version": 3
   },
   "file_extension": ".py",
   "mimetype": "text/x-python",
   "name": "python",
   "nbconvert_exporter": "python",
   "pygments_lexer": "ipython3",
   "version": "3.7.3"
  }
 },
 "nbformat": 4,
 "nbformat_minor": 2
}
