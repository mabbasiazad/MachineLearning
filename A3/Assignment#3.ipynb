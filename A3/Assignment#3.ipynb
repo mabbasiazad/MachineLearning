{
 "cells": [
  {
   "cell_type": "markdown",
   "metadata": {
    "ExecuteTime": {
     "end_time": "2019-06-28T03:09:56.315240Z",
     "start_time": "2019-06-28T03:09:56.308545Z"
    }
   },
   "source": [
    "#### Q1) Infinite-dimensional feature space of Gaussian kernel"
   ]
  },
  {
   "cell_type": "markdown",
   "metadata": {},
   "source": [
    "Exponential kernel is defined as; \n",
    "\n",
    "$$ K({\\bf x},{\\bf x}') = exp(-||{\\bf x}-{\\bf x}'||^2/2\\sigma^2) $$\n",
    "\n",
    "then it can be expanded; \n",
    "\n",
    "$$ K({\\bf x},{\\bf x}') = e^{-{\\bf x}^T{\\bf x}/2\\sigma^2}e^{{\\bf x}^T{\\bf x}'/\\sigma^2}e^{-({\\bf x}')^T{\\bf x}'/2\\sigma^2}$$\n",
    "\n",
    "We have the following equation for $e^{x}$ Taylor series;\n",
    "\n",
    "$ e^x = 1 + x + \\frac{x^2}{2!} + \\frac {x^3}{3!} + ... $\n",
    "\n",
    "So the middle factor of exponential kernel expansion furthure expands as; \n",
    "\n",
    "$$ e^{{\\bf x}^T{\\bf x}'/\\sigma^2} = 1 + {\\bf x}^T{\\bf x}'/\\sigma^2 + \\frac{({\\bf x}^T{\\bf x}'/\\sigma^2)^2}{2!} + \\frac{({\\bf x}^T{\\bf x}'/\\sigma^2)^3}{3!} + ...$$ \n",
    "\n",
    "\n",
    "The purpose is to show that the can be expressed as the inner product of an infinite-dimensional feature space. For the sake of simplicity I assume that ${\\bf x}$ and ${\\bf x}'$ are 1-D  sample point. So, I can write the equation above as dot product of two infinite vectors; \n",
    "\n",
    "$$ e^{{\\bf x}^T{\\bf x}'/\\sigma^2} = [1, \\frac{x}{\\sigma}, \\frac{x}{\\sqrt{2!}\\sigma^2}, \\frac{x}{\\sqrt{3!}\\sigma^3}, ... ] \\begin{bmatrix} \n",
    "    1 \\\\ \\frac{x'}{\\sigma} \\\\ \\frac{x'}{\\sqrt{2!}\\sigma^2} \\\\ \\frac{x'}{\\sqrt{3!}\\sigma^3}\\\\ \\vdots\n",
    "\\end{bmatrix} $$\n",
    "\n",
    "Therfore, the feature vector $\\phi$ = [$\\phi_1(x), \\phi_2(x), ... $] has infinite elements. \n",
    "Each element of the vector can be written as; \n",
    "\n",
    "$$\\phi_i(x) =e^{-x^2/2\\sigma^2} \\frac{x}{\\sqrt{i!}\\sigma^i} $$\n"
   ]
  },
  {
   "cell_type": "code",
   "execution_count": 1,
   "metadata": {
    "ExecuteTime": {
     "end_time": "2019-07-07T19:09:58.112328Z",
     "start_time": "2019-07-07T19:09:56.409295Z"
    }
   },
   "outputs": [],
   "source": [
    "#Import the packages\n",
    "\n",
    "import numpy as np\n",
    "import pandas as pd\n",
    "import matplotlib.pyplot as plt\n",
    "import timeit\n"
   ]
  },
  {
   "cell_type": "markdown",
   "metadata": {
    "ExecuteTime": {
     "end_time": "2019-06-28T03:05:24.163652Z",
     "start_time": "2019-06-28T03:05:24.157920Z"
    }
   },
   "source": [
    "#### Importing Data"
   ]
  },
  {
   "cell_type": "code",
   "execution_count": 2,
   "metadata": {
    "ExecuteTime": {
     "end_time": "2019-07-07T19:10:02.507172Z",
     "start_time": "2019-07-07T19:10:02.463030Z"
    },
    "scrolled": false
   },
   "outputs": [],
   "source": [
    "testInput = pd.read_csv(\"nonlinear-regression-dataset/testInput.csv\",sep=',',header=None).values\n",
    "testTarget = pd.read_csv(\"nonlinear-regression-dataset/testTarget.csv\",sep=',',header=None).values[:,0]"
   ]
  },
  {
   "cell_type": "code",
   "execution_count": 4,
   "metadata": {
    "ExecuteTime": {
     "end_time": "2019-07-07T19:10:41.478063Z",
     "start_time": "2019-07-07T19:10:41.469483Z"
    }
   },
   "outputs": [
    {
     "data": {
      "text/plain": [
       "(128, 2)"
      ]
     },
     "execution_count": 4,
     "metadata": {},
     "output_type": "execute_result"
    }
   ],
   "source": [
    "testInput.shape"
   ]
  },
  {
   "cell_type": "code",
   "execution_count": 3,
   "metadata": {
    "ExecuteTime": {
     "end_time": "2019-07-07T18:08:59.565425Z",
     "start_time": "2019-07-07T18:08:59.327772Z"
    }
   },
   "outputs": [],
   "source": [
    "trainInput = []\n",
    "trainTarget = []\n",
    "\n",
    "for i in range(10):\n",
    "    tmpInput = pd.read_csv(\"nonlinear-regression-dataset/trainInput\"+str(i+1)+\".csv\",sep=',',header=None).values\n",
    "    tmpTarget = pd.read_csv(\"nonlinear-regression-dataset/trainTarget\"+str(i+1)+\".csv\",sep=',',header=None).values[:,0]\n",
    "    \n",
    "    for val in tmpInput:\n",
    "        trainInput.append(val)\n",
    "    \n",
    "    for val in tmpTarget:\n",
    "        trainTarget.append(val)  \n",
    "        \n",
    "trainInput = np.array(trainInput)\n",
    "trainTarget = np.array(trainTarget)"
   ]
  },
  {
   "cell_type": "markdown",
   "metadata": {
    "ExecuteTime": {
     "end_time": "2019-06-28T03:05:57.701429Z",
     "start_time": "2019-06-28T03:05:57.692950Z"
    }
   },
   "source": [
    "#### Q2.a) Regularized generalized linear regression"
   ]
  },
  {
   "cell_type": "code",
   "execution_count": 4,
   "metadata": {
    "ExecuteTime": {
     "end_time": "2019-06-29T00:26:59.136137Z",
     "start_time": "2019-06-29T00:26:59.127973Z"
    }
   },
   "outputs": [],
   "source": [
    "#Monomial Basis Function (phi) with degree of \"d\" for a single 2-dimension \"dataPoint\" \n",
    "\n",
    "def monomial(d,dataPoint): \n",
    "    phi_x = []\n",
    "    \n",
    "    for i in range(d+1):\n",
    "        for j in range((d+1)-i):\n",
    "            phi_x.append(dataPoint[0]**i * dataPoint[1]**j)\n",
    "    \n",
    "    return np.array(phi_x)    "
   ]
  },
  {
   "cell_type": "code",
   "execution_count": 5,
   "metadata": {
    "ExecuteTime": {
     "end_time": "2019-06-29T00:26:59.155489Z",
     "start_time": "2019-06-29T00:26:59.140786Z"
    }
   },
   "outputs": [],
   "source": [
    "def calcPHI(d, dataSet):\n",
    "    PHI_X = np.zeros([monomial(d,dataSet[0]).size, dataSet.shape[0]])\n",
    "    \n",
    "    for i in range(dataSet.shape[0]):\n",
    "        PHI_X[:,i] = monomial(d,dataSet[i])\n",
    "    \n",
    "    return PHI_X  "
   ]
  },
  {
   "cell_type": "code",
   "execution_count": 6,
   "metadata": {
    "ExecuteTime": {
     "end_time": "2019-06-29T00:26:59.345565Z",
     "start_time": "2019-06-29T00:26:59.337039Z"
    }
   },
   "outputs": [],
   "source": [
    "def mse(predictions, targets):\n",
    "    return ((predictions - targets) ** 2).mean()"
   ]
  },
  {
   "cell_type": "code",
   "execution_count": 8,
   "metadata": {
    "ExecuteTime": {
     "end_time": "2019-06-28T17:50:54.887413Z",
     "start_time": "2019-06-28T17:50:54.432902Z"
    }
   },
   "outputs": [
    {
     "name": "stdout",
     "output_type": "stream",
     "text": [
      "Min MSE = %  0.053501872410444205\n",
      "Min error happens @ degree = 4\n"
     ]
    },
    {
     "data": {
      "image/png": "[encoded data removed]",
      "text/plain": [
       "<Figure size 1008x288 with 2 Axes>"
      ]
     },
     "metadata": {
      "needs_background": "light"
     },
     "output_type": "display_data"
    }
   ],
   "source": [
    "degree = [1,2,3,4]    #monomial Basis Function Degree\n",
    "\n",
    "lamda = 0.5\n",
    "\n",
    "kfolds = 10\n",
    "\n",
    "MSE = np.zeros(len(degree))\n",
    "RunTime = np.zeros(len(degree))\n",
    "\n",
    "for i in range(len(degree)):\n",
    "    \n",
    "    start = timeit.default_timer()\n",
    "    \n",
    "    MSE_cross = np.zeros(kfolds)\n",
    "\n",
    "    for j in range(kfolds):\n",
    "        trainInput_cross = np.delete(trainInput,np.arange(j*20,(j+1)*20),0)\n",
    "        trainTarget_cross = np.delete(trainTarget,np.arange(j*20,(j+1)*20),0) \n",
    "        \n",
    "        validateInput = trainInput[j*20:(j+1)*20]\n",
    "        validateTarget = trainTarget[j*20:(j+1)*20]\n",
    "        \n",
    "        PHI = calcPHI(degree[i], trainInput_cross)\n",
    "        K = PHI.T.dot(PHI)\n",
    "        a = np.linalg.inv(K + lamda * np.identity(K.shape[0])).dot(trainTarget_cross) \n",
    "                \n",
    "        validateTarget_predict = calcPHI(degree[i], validateInput).T.dot(PHI).dot(a)\n",
    "        \n",
    "        MSE_cross[j] = mse(validateTarget, validateTarget_predict)\n",
    "    \n",
    "    stop = timeit.default_timer()\n",
    "    \n",
    "    RunTime[i] = stop - start\n",
    "    MSE[i] = np.average(MSE_cross)\n",
    "    \n",
    "plt.figure(figsize=(14, 4))\n",
    "plt.subplot(1,2,1)\n",
    "\n",
    "plt.plot(degree, MSE)\n",
    "plt.xlabel('Basis Function Degree')\n",
    "plt.ylabel('Mean Squre Error %');\n",
    "\n",
    "plt.subplot(1,2,2)\n",
    "plt.plot(degree, RunTime)\n",
    "plt.xlabel('Basis Function Degree')\n",
    "plt.ylabel('Run Time (sec)');\n",
    "\n",
    "print (\"Min MSE = % \", min(MSE))\n",
    "print(\"Min error happens @ degree =\", degree[np.argmin(MSE)])"
   ]
  },
  {
   "cell_type": "code",
   "execution_count": 9,
   "metadata": {
    "ExecuteTime": {
     "end_time": "2019-06-28T17:50:57.697053Z",
     "start_time": "2019-06-28T17:50:57.679096Z"
    }
   },
   "outputs": [
    {
     "name": "stdout",
     "output_type": "stream",
     "text": [
      "Mean Squre Error for Test Set = % 0.04462350184197567\n"
     ]
    }
   ],
   "source": [
    "PHI = calcPHI(degree[np.argmin(MSE)], trainInput)\n",
    "K = PHI.T.dot(PHI)\n",
    "a = np.linalg.inv(K + lamda * np.identity(K.shape[0])).dot(trainTarget) \n",
    "\n",
    "testTarget_predict = np.zeros(testTarget.shape[0])\n",
    "        \n",
    "testTarget_predict = calcPHI(degree[i], testInput).T.dot(PHI).dot(a)\n",
    "\n",
    "MSE_test = mse(testTarget_predict, testTarget)\n",
    "\n",
    "print(\"Mean Squre Error for Test Set = %\", MSE_test)"
   ]
  },
  {
   "cell_type": "markdown",
   "metadata": {
    "ExecuteTime": {
     "end_time": "2019-06-28T03:07:21.137993Z",
     "start_time": "2019-06-28T03:07:21.129747Z"
    }
   },
   "source": [
    "#### Q2.b) Bayesian generalized linear regression"
   ]
  },
  {
   "cell_type": "code",
   "execution_count": 17,
   "metadata": {
    "ExecuteTime": {
     "end_time": "2019-06-29T00:36:27.230245Z",
     "start_time": "2019-06-29T00:36:26.610518Z"
    }
   },
   "outputs": [
    {
     "name": "stdout",
     "output_type": "stream",
     "text": [
      "Min MSE = % 0.04029397338595449\n",
      "Min error happens @ degree = 4\n"
     ]
    },
    {
     "data": {
      "image/png": "[encoded data removed]",
      "text/plain": [
       "<Figure size 1008x288 with 2 Axes>"
      ]
     },
     "metadata": {
      "needs_background": "light"
     },
     "output_type": "display_data"
    }
   ],
   "source": [
    "degree = [1, 2, 3, 4]    #monomial Basis Function Degree\n",
    "\n",
    "kfolds = 1\n",
    "\n",
    "MSE = np.zeros(len(degree))\n",
    "RunTime = np.zeros(len(degree))\n",
    "\n",
    "for i in range(len(degree)):\n",
    "    \n",
    "#     start = timeit.default_timer()\n",
    "    \n",
    "    MSE_cross = np.zeros(kfolds)\n",
    "    time_cross = np.zeros(kfolds)\n",
    "    \n",
    "    for j in range(kfolds):\n",
    "           \n",
    "        trainInput_cross = np.delete(trainInput,np.arange(j*20,(j+1)*20),0)\n",
    "        trainTarget_cross = np.delete(trainTarget,np.arange(j*20,(j+1)*20),0) \n",
    "        \n",
    "        validateInput = trainInput[j*20:(j+1)*20]\n",
    "        validateTarget = trainTarget[j*20:(j+1)*20]\n",
    "        \n",
    "        start = timeit.default_timer()\n",
    "        \n",
    "        PHI = calcPHI(degree[i], trainInput_cross)\n",
    "        A = PHI.dot(PHI.T) + np.identity(PHI.shape[0])\n",
    "        wHat = (np.linalg.inv(A).dot(PHI)).dot(trainTarget_cross) \n",
    "        \n",
    "        stop = timeit.default_timer()\n",
    "        \n",
    "        validateTarget_predict = wHat.T.dot(calcPHI(degree[i], validateInput))\n",
    "        \n",
    "        MSE_cross[j] = mse(validateTarget_predict, validateTarget)\n",
    "        time_cross [j] = stop-start\n",
    "#     stop = timeit.default_timer()\n",
    "    \n",
    "    RunTime[i] = np.average(time_cross)\n",
    "    MSE[i] = np.average(MSE_cross)\n",
    "    \n",
    "plt.figure(figsize=(14, 4))\n",
    "plt.subplot(1,2,1)\n",
    "\n",
    "plt.plot(degree, MSE)\n",
    "plt.xlabel('Basis Function Degree')\n",
    "plt.ylabel('Mean Squre Error %');\n",
    "\n",
    "plt.subplot(1,2,2)\n",
    "plt.plot(degree, RunTime)\n",
    "plt.xlabel('Basis Function Degree')\n",
    "plt.ylabel('Run Time (sec)');\n",
    "\n",
    "print (\"Min MSE = %\", min(MSE))\n",
    "print(\"Min error happens @ degree =\", degree[np.argmin(MSE)])"
   ]
  },
  {
   "cell_type": "code",
   "execution_count": 18,
   "metadata": {
    "ExecuteTime": {
     "end_time": "2019-06-29T00:37:08.743878Z",
     "start_time": "2019-06-29T00:37:08.704564Z"
    }
   },
   "outputs": [
    {
     "name": "stdout",
     "output_type": "stream",
     "text": [
      "Mean Squre Error for Test Set = % 0.05044037782150541\n"
     ]
    }
   ],
   "source": [
    "PHI = calcPHI(degree[np.argmin(MSE)], trainInput)\n",
    "A = PHI.dot(PHI.T) + np.identity(PHI.shape[0])\n",
    "wHat = (np.linalg.inv(A).dot(PHI)).dot(trainTarget) \n",
    "\n",
    "testTarget_predict = wHat.T.dot(calcPHI(degree[np.argmin(MSE)], testInput))\n",
    "\n",
    "MSE_test = mse(testTarget_predict, testTarget)\n",
    "\n",
    "print(\"Mean Squre Error for Test Set = %\", MSE_test)"
   ]
  },
  {
   "cell_type": "markdown",
   "metadata": {
    "ExecuteTime": {
     "end_time": "2019-06-28T17:57:04.059067Z",
     "start_time": "2019-06-28T17:57:04.055045Z"
    }
   },
   "source": [
    "#### Q2.c) Gaussian process regression"
   ]
  },
  {
   "cell_type": "code",
   "execution_count": 29,
   "metadata": {
    "ExecuteTime": {
     "end_time": "2019-06-28T19:33:18.274378Z",
     "start_time": "2019-06-28T19:33:18.256023Z"
    }
   },
   "outputs": [],
   "source": [
    "def identityKerCov(dataSet_1, dataSet_2):\n",
    "    K = np.zeros([dataSet_1.shape[0], dataSet_2.shape[0]])\n",
    "    \n",
    "    for i in range(K.shape[0]):\n",
    "        for j in range(K.shape[1]):\n",
    "            K[i][j] = dataSet_1[i].dot(dataSet_2[j])\n",
    "    \n",
    "    return K"
   ]
  },
  {
   "cell_type": "code",
   "execution_count": 94,
   "metadata": {
    "ExecuteTime": {
     "end_time": "2019-06-28T20:03:01.603663Z",
     "start_time": "2019-06-28T20:03:01.584003Z"
    }
   },
   "outputs": [],
   "source": [
    "def gaussianKerCov(sigma, dataSet_1, dataSet_2):\n",
    "    K = np.zeros([dataSet_1.shape[0], dataSet_2.shape[0]])\n",
    "    \n",
    "    for i in range(K.shape[0]):\n",
    "        for j in range(K.shape[1]):\n",
    "            norm = np.linalg.norm(dataSet_1[i] - dataSet_2[j])\n",
    "            K[i][j] = np.exp((-norm**2) / (2*sigma**2))\n",
    "    \n",
    "    return K"
   ]
  },
  {
   "cell_type": "code",
   "execution_count": 122,
   "metadata": {
    "ExecuteTime": {
     "end_time": "2019-06-28T21:35:30.308074Z",
     "start_time": "2019-06-28T21:35:30.295864Z"
    }
   },
   "outputs": [],
   "source": [
    "def polynomialKerCoV(d, dataSet_1, dataSet_2):\n",
    "    K = np.zeros([dataSet_1.shape[0], dataSet_2.shape[0]])\n",
    "    \n",
    "    for i in range(K.shape[0]):\n",
    "        for j in range(K.shape[1]):\n",
    "            K[i][j] = (dataSet_1[i].dot(dataSet_2[j]) + 1)**d\n",
    "    \n",
    "    return K"
   ]
  },
  {
   "cell_type": "markdown",
   "metadata": {
    "ExecuteTime": {
     "end_time": "2019-06-28T21:07:37.208924Z",
     "start_time": "2019-06-28T21:07:37.196593Z"
    }
   },
   "source": [
    "> Identity Kernel"
   ]
  },
  {
   "cell_type": "code",
   "execution_count": 102,
   "metadata": {
    "ExecuteTime": {
     "end_time": "2019-06-28T21:05:54.531296Z",
     "start_time": "2019-06-28T21:05:54.279034Z"
    }
   },
   "outputs": [
    {
     "name": "stdout",
     "output_type": "stream",
     "text": [
      "Identity Kernel MSE = % 3.590620685448405\n"
     ]
    }
   ],
   "source": [
    "K = identityKerCov(trainInput, trainInput)\n",
    "a = np.linalg.inv(K + np.identity(K.shape[0])).dot(trainTarget)\n",
    "testTarget_predict = identityKerCov(testInput, trainInput).dot(a)\n",
    "        \n",
    "MSE_Identity= mse(testTarget_predict, testTarget)\n",
    "\n",
    "print (\"Identity Kernel MSE for Test Set = %\", MSE_Identity)"
   ]
  },
  {
   "cell_type": "markdown",
   "metadata": {
    "ExecuteTime": {
     "end_time": "2019-06-28T21:16:13.234938Z",
     "start_time": "2019-06-28T21:16:13.227647Z"
    }
   },
   "source": [
    "> Gaussian Kernel"
   ]
  },
  {
   "cell_type": "code",
   "execution_count": 143,
   "metadata": {
    "ExecuteTime": {
     "end_time": "2019-06-28T21:59:31.678808Z",
     "start_time": "2019-06-28T21:58:48.527023Z"
    }
   },
   "outputs": [
    {
     "name": "stdout",
     "output_type": "stream",
     "text": [
      "Min MSE = % 0.05714877397538333\n",
      "Min error happens @ sigma = 4\n"
     ]
    },
    {
     "data": {
      "image/png": "[encoded data removed]",
      "text/plain": [
       "<Figure size 1008x288 with 2 Axes>"
      ]
     },
     "metadata": {
      "needs_background": "light"
     },
     "output_type": "display_data"
    }
   ],
   "source": [
    "sigma = [1, 2, 3, 4, 5, 6]    #monomial Basis Function Degree\n",
    "\n",
    "kfolds = 10\n",
    "\n",
    "MSE = np.zeros(len(sigma))\n",
    "RunTime = np.zeros(len(sigma))\n",
    "\n",
    "for i in range(len(sigma)):\n",
    "    start = timeit.default_timer()\n",
    "    MSE_cross = np.zeros(kfolds)\n",
    "\n",
    "    for j in range(kfolds):\n",
    "        trainInput_cross = np.delete(trainInput,np.arange(j*20,(j+1)*20),0)\n",
    "        trainTarget_cross = np.delete(trainTarget,np.arange(j*20,(j+1)*20),0) \n",
    "        \n",
    "        validInput = trainInput[j*20:(j+1)*20]\n",
    "        validTarget = trainTarget[j*20:(j+1)*20]\n",
    "        \n",
    "        K = gaussianKerCov(sigma[i], trainInput_cross, trainInput_cross)\n",
    "        a = np.linalg.inv(K + np.identity(K.shape[0])).dot(trainTarget_cross)\n",
    "        validTarget_predict = gaussianKerCov(sigma[i], validInput, trainInput_cross).dot(a)\n",
    "        \n",
    "        MSE_cross[j]= mse(validTarget_predict, validTarget)\n",
    "        \n",
    "    stop = timeit.default_timer()\n",
    "    RunTime[i] = stop - start\n",
    "    \n",
    "    MSE[i] = np.average(MSE_cross)\n",
    "    \n",
    "gKer_RT = [min(RunTime), max(RunTime)]\n",
    "\n",
    "plt.figure(figsize=(14, 4))\n",
    "plt.subplot(1,2,1)\n",
    "\n",
    "plt.plot(sigma, MSE)\n",
    "plt.xlabel('Sigma')\n",
    "plt.ylabel('Mean Squre Error %');\n",
    "\n",
    "plt.subplot(1,2,2)\n",
    "plt.plot(sigma, RunTime)\n",
    "plt.xlabel('sigma')\n",
    "plt.ylabel('Run Time (sec)');\n",
    "\n",
    "print (\"Min MSE = %\", min(MSE))\n",
    "print(\"Min error happens @ sigma =\", degree[np.argmin(MSE)])"
   ]
  },
  {
   "cell_type": "code",
   "execution_count": 144,
   "metadata": {
    "ExecuteTime": {
     "end_time": "2019-06-28T21:59:48.128764Z",
     "start_time": "2019-06-28T21:59:46.733897Z"
    }
   },
   "outputs": [
    {
     "name": "stdout",
     "output_type": "stream",
     "text": [
      "Gaussian Kernel MSE for Test Set = % 0.043025161668200265\n"
     ]
    }
   ],
   "source": [
    "K = gaussianKerCov(sigma[np.argmin(MSE)], trainInput, trainInput)\n",
    "a = np.linalg.inv(K + np.identity(K.shape[0])).dot(trainTarget)\n",
    "testTarget_predict = gaussianKerCov(sigma[np.argmin(MSE)], testInput, trainInput).dot(a)\n",
    "        \n",
    "MSE_gaussian= mse(testTarget_predict, testTarget)\n",
    "\n",
    "print (\"Gaussian Kernel MSE for Test Set = %\", MSE_gaussian)"
   ]
  },
  {
   "cell_type": "markdown",
   "metadata": {
    "ExecuteTime": {
     "end_time": "2019-06-28T21:32:15.776176Z",
     "start_time": "2019-06-28T21:32:15.768207Z"
    }
   },
   "source": [
    "> Polynomial Kernel"
   ]
  },
  {
   "cell_type": "code",
   "execution_count": 145,
   "metadata": {
    "ExecuteTime": {
     "end_time": "2019-06-28T21:59:58.579406Z",
     "start_time": "2019-06-28T21:59:50.125493Z"
    }
   },
   "outputs": [
    {
     "name": "stdout",
     "output_type": "stream",
     "text": [
      "Min MSE = % 0.054368715570554796\n",
      "Min error happens @ polynomial degree = 4\n"
     ]
    },
    {
     "data": {
      "image/png": "[encoded data removed]",
      "text/plain": [
       "<Figure size 1008x288 with 2 Axes>"
      ]
     },
     "metadata": {
      "needs_background": "light"
     },
     "output_type": "display_data"
    }
   ],
   "source": [
    "degree = [1, 2, 3, 4]    #monomial Basis Function Degree\n",
    "\n",
    "kfolds = 10\n",
    "\n",
    "MSE = np.zeros(len(degree))\n",
    "RunTime = np.zeros(len(degree))\n",
    "\n",
    "for i in range(len(degree)):\n",
    "    start = timeit.default_timer()\n",
    "    MSE_cross = np.zeros(kfolds)\n",
    "\n",
    "    for j in range(kfolds):\n",
    "        trainInput_cross = np.delete(trainInput,np.arange(j*20,(j+1)*20),0)\n",
    "        trainTarget_cross = np.delete(trainTarget,np.arange(j*20,(j+1)*20),0) \n",
    "        \n",
    "        validInput = trainInput[j*20:(j+1)*20]\n",
    "        validTarget = trainTarget[j*20:(j+1)*20]\n",
    "        \n",
    "        K = polynomialKerCoV(degree[i], trainInput_cross, trainInput_cross)\n",
    "        a = np.linalg.inv(K + np.identity(K.shape[0])).dot(trainTarget_cross)\n",
    "        validTarget_predict = polynomialKerCoV(degree[i], validInput, trainInput_cross).dot(a)\n",
    "        \n",
    "        MSE_cross[j]= mse(validTarget_predict, validTarget)\n",
    "        \n",
    "    stop = timeit.default_timer()\n",
    "    RunTime[i] = stop - start\n",
    "    \n",
    "    MSE[i] = np.average(MSE_cross)\n",
    "    \n",
    "pKer_RT = [min(RunTime), max(RunTime)]\n",
    "\n",
    "plt.figure(figsize=(14, 4))\n",
    "plt.subplot(1,2,1)\n",
    "\n",
    "plt.plot(degree, MSE)\n",
    "plt.xlabel('Polynomial Degree')\n",
    "plt.ylabel('Mean Squre Error %');\n",
    "\n",
    "plt.subplot(1,2,2)\n",
    "plt.plot(degree, RunTime)\n",
    "plt.xlabel('Polynomial Degree')\n",
    "plt.ylabel('Run Time (sec)');\n",
    "\n",
    "print (\"Min MSE = %\", min(MSE))\n",
    "print(\"Min error happens @ polynomial degree =\", degree[np.argmin(MSE)])"
   ]
  },
  {
   "cell_type": "code",
   "execution_count": 146,
   "metadata": {
    "ExecuteTime": {
     "end_time": "2019-06-28T22:00:19.852288Z",
     "start_time": "2019-06-28T22:00:19.516757Z"
    }
   },
   "outputs": [
    {
     "name": "stdout",
     "output_type": "stream",
     "text": [
      "Polynomial Kernel MSE for Test Set = % 0.04576775190620877\n"
     ]
    }
   ],
   "source": [
    "K = polynomialKerCoV(degree[np.argmin(MSE)], trainInput, trainInput)\n",
    "a = np.linalg.inv(K + np.identity(K.shape[0])).dot(trainTarget)\n",
    "testTarget_predict = polynomialKerCoV(degree[np.argmin(MSE)], testInput, trainInput).dot(a)\n",
    "        \n",
    "MSE_poly= mse(testTarget_predict, testTarget)\n",
    "\n",
    "print (\"Polynomial Kernel MSE for Test Set = %\", MSE_poly)"
   ]
  },
  {
   "cell_type": "markdown",
   "metadata": {
    "ExecuteTime": {
     "end_time": "2019-06-28T21:54:43.802038Z",
     "start_time": "2019-06-28T21:54:43.789784Z"
    }
   },
   "source": [
    "Run Time of guassian kernel is in the order of 7 sec and of polynomial kelrnel is in the order of 2 sec.\n",
    "That is, the polynomial kelrnel is more than 3 times faster than guassian kernel."
   ]
  },
  {
   "cell_type": "code",
   "execution_count": 147,
   "metadata": {
    "ExecuteTime": {
     "end_time": "2019-06-28T22:00:22.036543Z",
     "start_time": "2019-06-28T22:00:22.030737Z"
    }
   },
   "outputs": [
    {
     "name": "stdout",
     "output_type": "stream",
     "text": [
      "Guaussian Kernel Run Time [min, max]:  [6.958495100003347, 7.2028459000030125]\n",
      "Polynomial Kernel Run Time [min, max]:  [1.9327310000007856, 2.014246099999582]\n"
     ]
    }
   ],
   "source": [
    "print(\"Guaussian Kernel Run Time [min, max]: \", gKer_RT)\n",
    "print(\"Polynomial Kernel Run Time [min, max]: \", pKer_RT)"
   ]
  },
  {
   "cell_type": "markdown",
   "metadata": {
    "ExecuteTime": {
     "end_time": "2019-06-28T03:08:04.227589Z",
     "start_time": "2019-06-28T03:08:04.222782Z"
    }
   },
   "source": [
    "#### Q2.d) Neural network"
   ]
  },
  {
   "cell_type": "code",
   "execution_count": 2,
   "metadata": {
    "ExecuteTime": {
     "end_time": "2019-07-04T19:55:20.603328Z",
     "start_time": "2019-07-04T19:55:13.586082Z"
    }
   },
   "outputs": [
    {
     "name": "stderr",
     "output_type": "stream",
     "text": [
      "Using TensorFlow backend.\n"
     ]
    }
   ],
   "source": [
    "import tensorflow as tf\n",
    "from keras.models import Sequential\n",
    "from keras.layers import Dense\n",
    "#set early stopping monitor so the model stops training when it won't improve anymore\n",
    "from keras.callbacks import EarlyStopping"
   ]
  },
  {
   "cell_type": "code",
   "execution_count": 6,
   "metadata": {
    "ExecuteTime": {
     "end_time": "2019-06-21T02:00:39.042755Z",
     "start_time": "2019-06-21T01:33:28.518760Z"
    },
    "scrolled": false
   },
   "outputs": [
    {
     "name": "stdout",
     "output_type": "stream",
     "text": [
      "WARNING:tensorflow:From C:\\Users\\Mehdi Abbasi Azad\\Anaconda3\\envs\\tensorflow_env\\lib\\site-packages\\tensorflow\\python\\framework\\op_def_library.py:263: colocate_with (from tensorflow.python.framework.ops) is deprecated and will be removed in a future version.\n",
      "Instructions for updating:\n",
      "Colocations handled automatically by placer.\n",
      "WARNING:tensorflow:From C:\\Users\\Mehdi Abbasi Azad\\Anaconda3\\envs\\tensorflow_env\\lib\\site-packages\\tensorflow\\python\\ops\\math_ops.py:3066: to_int32 (from tensorflow.python.ops.math_ops) is deprecated and will be removed in a future version.\n",
      "Instructions for updating:\n",
      "Use tf.cast instead.\n"
     ]
    },
    {
     "name": "stderr",
     "output_type": "stream",
     "text": [
      "C:\\Users\\Mehdi Abbasi Azad\\Anaconda3\\envs\\tensorflow_env\\lib\\site-packages\\keras\\callbacks.py:569: RuntimeWarning: Early stopping conditioned on metric `val_loss` which is not available. Available metrics are: loss\n",
      "  (self.monitor, ','.join(list(logs.keys()))), RuntimeWarning\n"
     ]
    },
    {
     "name": "stdout",
     "output_type": "stream",
     "text": [
      "0\n",
      "1\n",
      "2\n",
      "3\n",
      "4\n",
      "5\n",
      "6\n",
      "7\n",
      "8\n",
      "9\n",
      "Min MSE =  0.4286984536163859\n",
      "Min error happens @ number of hidden Units= 5\n"
     ]
    },
    {
     "data": {
      "image/png": "[encoded data removed]",
      "text/plain": [
       "<Figure size 1008x288 with 2 Axes>"
      ]
     },
     "metadata": {
      "needs_background": "light"
     },
     "output_type": "display_data"
    }
   ],
   "source": [
    "kfolds = 10 \n",
    "\n",
    "hiddenUnitsNo = np.arange(1,11)\n",
    "\n",
    "MSE = np.zeros(len(hiddenUnitsNo))\n",
    "RunTime = np.zeros(len(hiddenUnitsNo))\n",
    "\n",
    "for i in range(len(hiddenUnitsNo)):\n",
    "\n",
    "    start = timeit.default_timer()\n",
    "\n",
    "    MSE_cross = np.zeros(kfolds)\n",
    "\n",
    "    for j in range(kfolds):\n",
    "        trainInput_cross = np.delete(trainInput,np.arange(j*20,(j+1)*20),0)\n",
    "        trainTarget_cross = np.delete(trainTarget,np.arange(j*20,(j+1)*20),0) \n",
    "        \n",
    "        validateInput = trainInput[j*20:(j+1)*20]\n",
    "        validateTarget = trainTarget[j*20:(j+1)*20]\n",
    "    \n",
    "        model = Sequential()\n",
    "        model.add(Dense(i+1, activation=\"sigmoid\", input_shape=(trainInput_cross.shape[1],)))\n",
    "        model.add(Dense(1))\n",
    "\n",
    "        model.compile(optimizer='adam', loss='mean_squared_error')\n",
    "\n",
    "        early_stopping_monitor = EarlyStopping(patience=3)\n",
    "        #train model\n",
    "        model.fit(trainInput_cross, trainTarget_cross, epochs=1000, callbacks=[early_stopping_monitor], verbose=0)\n",
    "\n",
    "        validatePredictions = model.predict(validateInput)\n",
    "        \n",
    "        MSE_cross[j] = mse(validatePredictions, validateTarget)\n",
    "        \n",
    "    stop = timeit.default_timer()\n",
    "    \n",
    "    print(i)\n",
    "    \n",
    "    RunTime[i] = stop - start\n",
    "    MSE[i] = np.average(MSE_cross)\n",
    "    \n",
    "plt.figure(figsize=(14, 4))\n",
    "plt.subplot(1,2,1)\n",
    "\n",
    "plt.plot(hiddenUnitsNo, MSE)\n",
    "plt.xlabel('Number of neurons in hidden layer')\n",
    "plt.ylabel('Mean Squre Error %');\n",
    "\n",
    "plt.subplot(1,2,2)\n",
    "plt.plot(hiddenUnitsNo, RunTime)\n",
    "plt.xlabel('Number of neurons in hidden layer')\n",
    "plt.ylabel('Run Time (sec)');\n",
    "\n",
    "print (\"Min MSE = %\", min(MSE))\n",
    "print(\"Min error happens @ number of hidden Units=\", hiddenUnitsNo[np.argmin(MSE)]);"
   ]
  },
  {
   "cell_type": "code",
   "execution_count": 8,
   "metadata": {
    "ExecuteTime": {
     "end_time": "2019-06-21T02:09:09.510401Z",
     "start_time": "2019-06-21T02:08:41.285314Z"
    }
   },
   "outputs": [
    {
     "name": "stdout",
     "output_type": "stream",
     "text": [
      "MSE test set % =  0.358587174952526\n"
     ]
    }
   ],
   "source": [
    "model = Sequential()\n",
    "model.add(Dense(5, activation=\"sigmoid\", input_shape=(trainInput.shape[1],)))\n",
    "model.add(Dense(1))\n",
    "\n",
    "model.compile(optimizer='adam', loss='mean_squared_error')\n",
    "\n",
    "early_stopping_monitor = EarlyStopping(patience=3)\n",
    "model.fit(trainInput, trainTarget, epochs=1000, callbacks=[early_stopping_monitor], verbose=0)\n",
    "\n",
    "testPredictions = model.predict(testInput)\n",
    "        \n",
    "MSE_test = mse(testPredictions, testTarget)\n",
    "print (\"MSE test set = %\", MSE_test)"
   ]
  }
 ],
 "metadata": {
  "kernelspec": {
   "display_name": "Python 3",
   "language": "python",
   "name": "python3"
  },
  "language_info": {
   "codemirror_mode": {
    "name": "ipython",
    "version": 3
   },
   "file_extension": ".py",
   "mimetype": "text/x-python",
   "name": "python",
   "nbconvert_exporter": "python",
   "pygments_lexer": "ipython3",
   "version": "3.7.3"
  },
  "latex_envs": {
   "LaTeX_envs_menu_present": true,
   "autoclose": false,
   "autocomplete": true,
   "bibliofile": "biblio.bib",
   "cite_by": "apalike",
   "current_citInitial": 1,
   "eqLabelWithNumbers": true,
   "eqNumInitial": 1,
   "hotkeys": {
    "equation": "Ctrl-E",
    "itemize": "Ctrl-I"
   },
   "labels_anchors": false,
   "latex_user_defs": false,
   "report_style_numbering": false,
   "user_envs_cfg": false
  }
 },
 "nbformat": 4,
 "nbformat_minor": 2
}
